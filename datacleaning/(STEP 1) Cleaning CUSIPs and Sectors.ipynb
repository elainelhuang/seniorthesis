{
 "cells": [
  {
   "cell_type": "code",
   "execution_count": 1,
   "metadata": {
    "colab": {
     "base_uri": "https://localhost:8080/"
    },
    "id": "LnG8VSyC79Zl",
    "outputId": "2eaf202d-7a1c-4c44-e445-cd4e177f4df3"
   },
   "outputs": [],
   "source": [
    "# Importing necessary packages\n",
    "import pandas as pd\n",
    "import numpy as np"
   ]
  },
  {
   "cell_type": "markdown",
   "metadata": {
    "id": "Q1ZpgpX1_L6g"
   },
   "source": [
    "# Loading in the Refinitiv Data"
   ]
  },
  {
   "cell_type": "code",
   "execution_count": 2,
   "metadata": {
    "colab": {
     "base_uri": "https://localhost:8080/"
    },
    "id": "OnStJoqH81c4",
    "outputId": "7be22948-c380-44cf-871e-82fcebeca1fa"
   },
   "outputs": [
    {
     "name": "stderr",
     "output_type": "stream",
     "text": [
      "/tmp/ipykernel_642449/3370407557.py:2: DtypeWarning: Columns (2) have mixed types. Specify dtype option on import or set low_memory=False.\n",
      "  refinitiv = pd.read_csv('Refinitiv_1_30_25.csv', header=0, encoding='latin-1')\n"
     ]
    }
   ],
   "source": [
    "# Here, 'Refinitiv_1_30_25.csv' is the .csv file downloaded directly from the WRDS Refinitiv V2 query\n",
    "refinitiv = pd.read_csv('Refinitiv_1_30_25.csv', header=0, encoding='latin-1')"
   ]
  },
  {
   "cell_type": "code",
   "execution_count": 3,
   "metadata": {
    "colab": {
     "base_uri": "https://localhost:8080/"
    },
    "id": "Hr00iDtaA7Mm",
    "outputId": "5d00e26e-a468-468b-931a-ac902ec43e63"
   },
   "outputs": [
    {
     "name": "stdout",
     "output_type": "stream",
     "text": [
      "          orgpermid  year        cusip  naicscode                     comname  \\\n",
      "0        4295533401  2017    777780107        NaN          ROSETTA STONE INC.   \n",
      "1        4295533401  2017    777780107        NaN          ROSETTA STONE INC.   \n",
      "2        4295533401  2017    777780107        NaN          ROSETTA STONE INC.   \n",
      "3        4295533401  2017    777780107        NaN          ROSETTA STONE INC.   \n",
      "4        4295533401  2017    777780107        NaN          ROSETTA STONE INC.   \n",
      "...             ...   ...          ...        ...                         ...   \n",
      "2234360  8589934524  2022  880591300.0   221112.0  TENNESSEE VALLEY AUTHORITY   \n",
      "2234361  8589934524  2022  880591300.0   221112.0  TENNESSEE VALLEY AUTHORITY   \n",
      "2234362  8589934524  2022  880591300.0   221112.0  TENNESSEE VALLEY AUTHORITY   \n",
      "2234363  8589934524  2022  880591300.0   221112.0  TENNESSEE VALLEY AUTHORITY   \n",
      "2234364  8589934524  2022  880591300.0   221112.0  TENNESSEE VALLEY AUTHORITY   \n",
      "\n",
      "          hierarchy       pillar  \\\n",
      "0             Score          NaN   \n",
      "1             Score   ESG Scores   \n",
      "2             Score   ESG Scores   \n",
      "3             Score   ESG Scores   \n",
      "4             Score   ESG Scores   \n",
      "...             ...          ...   \n",
      "2234360  Data Point  Environment   \n",
      "2234361  Data Point  Environment   \n",
      "2234362  Data Point  Environment   \n",
      "2234363  Data Point  Environment   \n",
      "2234364  Data Point  Environment   \n",
      "\n",
      "                                            fieldname     value  valuescore  \n",
      "0                                            ESGScore        C+    0.417603  \n",
      "1                                    ESGCombinedScore        C+    0.417603  \n",
      "2                              EnvironmentPillarScore        D-    0.000000  \n",
      "3                               GovernancePillarScore        C+    0.466877  \n",
      "4                                   SocialPillarScore        C+    0.480113  \n",
      "...                                               ...       ...         ...  \n",
      "2234360  AnalyticEstimatesCO2EquivalentsEmissionTotal  41307600         NaN  \n",
      "2234361            CO2EquivalentsEmissionDirectScope1  41184773         NaN  \n",
      "2234362          CO2EquivalentsEmissionIndirectScope3     57573         NaN  \n",
      "2234363          CO2EquivalentsEmissionIndirectScope2    122840         NaN  \n",
      "2234364                   CO2EquivalentsEmissionTotal  41307613         NaN  \n",
      "\n",
      "[2234365 rows x 10 columns]\n"
     ]
    }
   ],
   "source": [
    "# Drop any unnecessary columns (Here, we droped 'fieldid')\n",
    "df = refinitiv.copy()\n",
    "df.drop(['fieldid'], axis=1, inplace=True)\n",
    "print(df)"
   ]
  },
  {
   "cell_type": "markdown",
   "metadata": {},
   "source": [
    "# Cleaning the CUSIPs"
   ]
  },
  {
   "cell_type": "markdown",
   "metadata": {
    "id": "d4ol_lbZC2Qo"
   },
   "source": [
    "**Drop observations with NaN as CUSIP (means it's non-US)**; This scope limitation is in place because CRSP monthly returns are only provided for stocks with CUSIPs (US only). Additionally, my research only focuses on US companies anyways!"
   ]
  },
  {
   "cell_type": "code",
   "execution_count": 4,
   "metadata": {
    "colab": {
     "base_uri": "https://localhost:8080/"
    },
    "id": "fUjQ120UBIVm",
    "outputId": "40934f48-7e14-4ce9-c382-b5d62cf50145"
   },
   "outputs": [
    {
     "name": "stdout",
     "output_type": "stream",
     "text": [
      "0            777780107\n",
      "1            777780107\n",
      "2            777780107\n",
      "3            777780107\n",
      "4            777780107\n",
      "              ...     \n",
      "2234360    880591300.0\n",
      "2234361    880591300.0\n",
      "2234362    880591300.0\n",
      "2234363    880591300.0\n",
      "2234364    880591300.0\n",
      "Name: cusip, Length: 746467, dtype: object\n"
     ]
    }
   ],
   "source": [
    "# Drop observations with missing CUSIPs and convert all CUSIPs to strings!\n",
    "df.dropna(subset=['cusip'], inplace=True)\n",
    "df['cusip'] = df['cusip'].astype(str)\n",
    "print(df['cusip'])"
   ]
  },
  {
   "cell_type": "code",
   "execution_count": 5,
   "metadata": {
    "id": "o_BB5mg767u_"
   },
   "outputs": [],
   "source": [
    "# Want all CUSIP strings to look the same (i.e. not have \".0\" at the end)\n",
    "df['cusip'] = df['cusip'].str.replace(r'\\.0$', '', regex=True)"
   ]
  },
  {
   "cell_type": "code",
   "execution_count": 6,
   "metadata": {
    "colab": {
     "base_uri": "https://localhost:8080/"
    },
    "id": "P-dd06VH-k14",
    "outputId": "ff3d8419-8145-4b22-9af5-1be0443e9e68"
   },
   "outputs": [
    {
     "name": "stdout",
     "output_type": "stream",
     "text": [
      "cusipDigits\n",
      "9     745907\n",
      "8        526\n",
      "10        34\n",
      "Name: count, dtype: int64\n"
     ]
    }
   ],
   "source": [
    "# Printing how many digits the current (uncleaned) CUSIPs have\n",
    "df_cusipcopy = df.copy()\n",
    "df_cusipcopy['cusipDigits'] = df_cusipcopy['cusip'].str.len()\n",
    "print(df_cusipcopy['cusipDigits'].value_counts())"
   ]
  },
  {
   "cell_type": "markdown",
   "metadata": {
    "id": "DWvfGO3E8gBL"
   },
   "source": [
    "The first 6 digits of a CUSIP identify the company, digits 7-8 describe the security and the 9th is a check digit"
   ]
  },
  {
   "cell_type": "markdown",
   "metadata": {
    "id": "IsnF5cwh_4oA"
   },
   "source": [
    "With CRSP and Compustat, we can use 8-digit CRSPs, so...\n",
    "* We need to add 0 to the end of the 7-digit cusips\n",
    "* Take first 8 digits of every string in the column"
   ]
  },
  {
   "cell_type": "code",
   "execution_count": 7,
   "metadata": {
    "id": "Tt93lnR2ASn8"
   },
   "outputs": [],
   "source": [
    "def add_zero(string):\n",
    "    if len(string) == 7:\n",
    "        return string + '0'\n",
    "    else:\n",
    "        return string\n",
    "\n",
    "df['cusip'] = df['cusip'].apply(add_zero)"
   ]
  },
  {
   "cell_type": "code",
   "execution_count": 8,
   "metadata": {
    "id": "KCgQcteXAmdL"
   },
   "outputs": [],
   "source": [
    "# Using str.slice() to keep the first 8 characters\n",
    "df['cusip'] = df['cusip'].str.slice(0, 8)"
   ]
  },
  {
   "cell_type": "code",
   "execution_count": 9,
   "metadata": {
    "colab": {
     "base_uri": "https://localhost:8080/"
    },
    "id": "9svHqfplAtl-",
    "outputId": "31ddcd56-9c75-415c-9553-7cd48dbe426f"
   },
   "outputs": [
    {
     "name": "stdout",
     "output_type": "stream",
     "text": [
      "cusipDigits\n",
      "8    746467\n",
      "Name: count, dtype: int64\n"
     ]
    }
   ],
   "source": [
    "# Checking that all CUSIPs are the same length\n",
    "df_cusipcopy2 = df.copy()\n",
    "df_cusipcopy2['cusipDigits'] = df_cusipcopy2['cusip'].str.len()\n",
    "print(df_cusipcopy2['cusipDigits'].value_counts())"
   ]
  },
  {
   "cell_type": "code",
   "execution_count": 10,
   "metadata": {},
   "outputs": [
    {
     "name": "stdout",
     "output_type": "stream",
     "text": [
      "['ESGScore' 'ESGCombinedScore' 'EnvironmentPillarScore'\n",
      " 'GovernancePillarScore' 'SocialPillarScore' 'ESGResourceUseScore'\n",
      " 'ESGEmissionsScore' 'ESGInnovationScore' 'ESGWorkforceScore'\n",
      " 'ESGHumanRightsScore' 'ESGCommunityScore' 'ESGProductResponsibilityScore'\n",
      " 'ESGManagementScore' 'ESGShareholdersScore' 'ESGCsrStrategyScore'\n",
      " 'AnalyticCO2EstimationMethod'\n",
      " 'AnalyticEstimatesCO2EquivalentsEmissionTotal'\n",
      " 'CO2EquivalentsEmissionDirectScope1'\n",
      " 'CO2EquivalentsEmissionIndirectScope3'\n",
      " 'CO2EquivalentsEmissionIndirectScope2' 'CO2EquivalentsEmissionTotal']\n"
     ]
    }
   ],
   "source": [
    "# Printing all the unique fields so we can more easily delete the ones that we are no longer interested in below\n",
    "unique_fields = df['fieldname'].unique()\n",
    "print(unique_fields)"
   ]
  },
  {
   "cell_type": "code",
   "execution_count": 11,
   "metadata": {},
   "outputs": [],
   "source": [
    "# We downloaded data with many different ESG data scores and data points to experiment with\n",
    "# However, now knowing that we are only using 'AnalyticCO2EstimationMethod' and 'AnalyticEstimatesCO2EquivalentsEmissionTotal', \n",
    "    # we can remove all other fields\n",
    "df = df[df['fieldname'] != 'ESGScore']\n",
    "df = df[df['fieldname'] != 'ESGCombinedScore']\n",
    "df = df[df['fieldname'] != 'EnvironmentPillarScore']\n",
    "df = df[df['fieldname'] != 'GovernancePillarScore']\n",
    "df = df[df['fieldname'] != 'SocialPillarScore']\n",
    "df = df[df['fieldname'] != 'ESGResourceUseScore']\n",
    "df = df[df['fieldname'] != 'ESGEmissionsScore']\n",
    "df = df[df['fieldname'] != 'ESGInnovationScore']\n",
    "df = df[df['fieldname'] != 'ESGWorkforceScore']\n",
    "df = df[df['fieldname'] != 'ESGHumanRightsScore']\n",
    "df = df[df['fieldname'] != 'ESGCommunityScore']\n",
    "df = df[df['fieldname'] != 'ESGProductResponsibilityScore']\n",
    "df = df[df['fieldname'] != 'ESGManagementScore']\n",
    "df = df[df['fieldname'] != 'ESGShareholdersScore']\n",
    "df = df[df['fieldname'] != 'ESGCsrStrategyScore']\n",
    "df = df[df['fieldname'] != 'CO2EquivalentsEmissionDirectScope1']\n",
    "df = df[df['fieldname'] != 'CO2EquivalentsEmissionIndirectScope3']\n",
    "df = df[df['fieldname'] != 'CO2EquivalentsEmissionIndirectScope2']\n",
    "df = df[df['fieldname'] != 'CO2EquivalentsEmissionTotal']"
   ]
  },
  {
   "cell_type": "markdown",
   "metadata": {
    "id": "AVSb8LrfAkTc"
   },
   "source": [
    "# Adding Sectors"
   ]
  },
  {
   "cell_type": "markdown",
   "metadata": {},
   "source": [
    "While the provided North American Industry Classification System (NAICS) codes have 6-digits (representing the most detailed, “National Industry” categorization), only the first two digits were taken to obtain the more general sector."
   ]
  },
  {
   "cell_type": "code",
   "execution_count": 12,
   "metadata": {
    "colab": {
     "base_uri": "https://localhost:8080/"
    },
    "id": "CT6XXeUUBsiK",
    "outputId": "db87ddb3-4719-4368-ff60-083156843c24"
   },
   "outputs": [
    {
     "data": {
      "text/plain": [
       "array(['na', '52', '33', '32', '62', '21', '22', '23', '53', '54', '71',\n",
       "       '48', '42', '44', '31', '51', '56', '11', '81', '72', '61', '49',\n",
       "       '55', '92'], dtype=object)"
      ]
     },
     "execution_count": 12,
     "metadata": {},
     "output_type": "execute_result"
    }
   ],
   "source": [
    "# Only keep the first two digits of the NAICS codes\n",
    "df['sectorcode'] = df['naicscode'].astype(str).str.slice(0, 2)\n",
    "df.sectorcode.unique()"
   ]
  },
  {
   "cell_type": "markdown",
   "metadata": {
    "id": "JJ8Yp-msCDJr"
   },
   "source": [
    "**Dropping**:\n",
    "* '56': Administrative and Support and Waste Management and Remediation Services\n",
    "* '81': Other Services (except Public Administration)\n",
    "* '92': Public Administration (not covered in economic census)\n",
    "* '61': Educational Services"
   ]
  },
  {
   "cell_type": "code",
   "execution_count": 13,
   "metadata": {
    "id": "k_C0O5d4B_R3"
   },
   "outputs": [],
   "source": [
    "df = df[df['sectorcode'] != '56']\n",
    "df = df[df['sectorcode'] != '81']\n",
    "df = df[df['sectorcode'] != '92']\n",
    "df = df[df['sectorcode'] != '61']"
   ]
  },
  {
   "cell_type": "markdown",
   "metadata": {
    "id": "FfmLfqFSMajr"
   },
   "source": [
    "**Combining**:\n",
    "* '31', '32', '33': Manufacturing\n",
    "* '48', '49: Transportation and Warehousing --> TransportWarehouse"
   ]
  },
  {
   "cell_type": "code",
   "execution_count": 14,
   "metadata": {
    "id": "VDHplNLECNfH"
   },
   "outputs": [],
   "source": [
    "df.loc[df['sectorcode'] == '32', 'sectorcode'] = '31'\n",
    "df.loc[df['sectorcode'] == '33', 'sectorcode'] = '31'\n",
    "df.loc[df['sectorcode'] == '49', 'sectorcode'] = '48'"
   ]
  },
  {
   "cell_type": "code",
   "execution_count": 15,
   "metadata": {
    "id": "qaSA5NIZCUno"
   },
   "outputs": [],
   "source": [
    "def get_sector(sectorcode):\n",
    "    if sectorcode == 'na':\n",
    "        return 'DidNotIdentify'\n",
    "\n",
    "    elif sectorcode == '31':\n",
    "        return 'Manufacturing'\n",
    "    elif sectorcode == '48':\n",
    "        return 'TransportWarehouse'\n",
    "\n",
    "    elif sectorcode == '52':\n",
    "        return 'FinanceIns'\n",
    "    elif sectorcode == '62':\n",
    "        return 'Healthcare'\n",
    "    elif sectorcode == '21':\n",
    "        return 'OilGas'\n",
    "    elif sectorcode == '53':\n",
    "        return 'RealEstate'\n",
    "    elif sectorcode == '54':\n",
    "        return 'Services'\n",
    "    elif sectorcode == '71':\n",
    "        return 'ArtsEntRec'\n",
    "    elif sectorcode == '11':\n",
    "        return 'Agriculture'\n",
    "    elif sectorcode == '55':\n",
    "        return 'Management'\n",
    "    elif sectorcode == '72':\n",
    "        return 'AccomFood'\n",
    "\n",
    "    elif sectorcode == '22':\n",
    "        return 'Utilities'\n",
    "    elif sectorcode == '23':\n",
    "        return 'Construction'\n",
    "    elif sectorcode == '42':\n",
    "        return 'Wholesale'\n",
    "    elif sectorcode == '44':\n",
    "        return 'Retail'\n",
    "    elif sectorcode == '51':\n",
    "        return 'Information'"
   ]
  },
  {
   "cell_type": "code",
   "execution_count": 16,
   "metadata": {
    "colab": {
     "base_uri": "https://localhost:8080/"
    },
    "id": "RUYIKBGLClFm",
    "outputId": "62de7367-9ba2-495d-e299-9a399f294798"
   },
   "outputs": [
    {
     "name": "stdout",
     "output_type": "stream",
     "text": [
      "          orgpermid  year     cusip                      comname   hierarchy  \\\n",
      "15       4295533401  2017  77778010           ROSETTA STONE INC.  Data Point   \n",
      "16       4295533401  2017  77778010           ROSETTA STONE INC.  Data Point   \n",
      "32       4295533401  2018  77778010           ROSETTA STONE INC.  Data Point   \n",
      "33       4295533401  2018  77778010           ROSETTA STONE INC.  Data Point   \n",
      "49       4295533401  2019  77778010           ROSETTA STONE INC.  Data Point   \n",
      "...             ...   ...       ...                          ...         ...   \n",
      "2233464  8589934339  2022  60505104  BANK OF AMERICA CORPORATION  Data Point   \n",
      "2233484  8589934339  2023  60505104  BANK OF AMERICA CORPORATION  Data Point   \n",
      "2233485  8589934339  2023  60505104  BANK OF AMERICA CORPORATION  Data Point   \n",
      "2234359  8589934524  2022  88059130   TENNESSEE VALLEY AUTHORITY  Data Point   \n",
      "2234360  8589934524  2022  88059130   TENNESSEE VALLEY AUTHORITY  Data Point   \n",
      "\n",
      "              pillar                                     fieldname     value  \\\n",
      "15       Environment                   AnalyticCO2EstimationMethod    Median   \n",
      "16       Environment  AnalyticEstimatesCO2EquivalentsEmissionTotal   2221.43   \n",
      "32       Environment                   AnalyticCO2EstimationMethod    Median   \n",
      "33       Environment  AnalyticEstimatesCO2EquivalentsEmissionTotal   1455.92   \n",
      "49       Environment                   AnalyticCO2EstimationMethod    Median   \n",
      "...              ...                                           ...       ...   \n",
      "2233464  Environment  AnalyticEstimatesCO2EquivalentsEmissionTotal    701285   \n",
      "2233484  Environment                   AnalyticCO2EstimationMethod  Reported   \n",
      "2233485  Environment  AnalyticEstimatesCO2EquivalentsEmissionTotal    678063   \n",
      "2234359  Environment                   AnalyticCO2EstimationMethod  Reported   \n",
      "2234360  Environment  AnalyticEstimatesCO2EquivalentsEmissionTotal  41307600   \n",
      "\n",
      "         valuescore          sector  \n",
      "15              NaN  DidNotIdentify  \n",
      "16              NaN  DidNotIdentify  \n",
      "32              NaN  DidNotIdentify  \n",
      "33              NaN  DidNotIdentify  \n",
      "49              NaN  DidNotIdentify  \n",
      "...             ...             ...  \n",
      "2233464         NaN      FinanceIns  \n",
      "2233484         NaN      FinanceIns  \n",
      "2233485         NaN      FinanceIns  \n",
      "2234359         NaN       Utilities  \n",
      "2234360         NaN       Utilities  \n",
      "\n",
      "[80636 rows x 10 columns]\n"
     ]
    }
   ],
   "source": [
    "# Adding a sector column with the strings (names of the sectors, instead of sector codes) that we defined above\n",
    "df['sector'] = df['sectorcode'].apply(get_sector)\n",
    "df.drop(['naicscode', 'sectorcode'], axis=1, inplace=True)\n",
    "print(df)"
   ]
  },
  {
   "cell_type": "code",
   "execution_count": 17,
   "metadata": {
    "id": "g7p8ET6I3Slh"
   },
   "outputs": [],
   "source": [
    "# Export this cleaned dataset (with updated CUSIPs and Sectors) as a .csv and proceed to Step 2\n",
    "df.to_csv('CleanedNonPivot_1_30_25.csv')"
   ]
  }
 ],
 "metadata": {
  "colab": {
   "provenance": []
  },
  "kernelspec": {
   "display_name": "Python 3 (ipykernel)",
   "language": "python",
   "name": "python3"
  },
  "language_info": {
   "codemirror_mode": {
    "name": "ipython",
    "version": 3
   },
   "file_extension": ".py",
   "mimetype": "text/x-python",
   "name": "python",
   "nbconvert_exporter": "python",
   "pygments_lexer": "ipython3",
   "version": "3.12.4"
  }
 },
 "nbformat": 4,
 "nbformat_minor": 4
}
