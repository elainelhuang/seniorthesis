{
 "cells": [
  {
   "cell_type": "code",
   "execution_count": 1,
   "id": "89dd9f4e-f6ac-4810-b820-0a8e1e33f497",
   "metadata": {},
   "outputs": [],
   "source": [
    "# Importing necessary packages\n",
    "import pandas as pd\n",
    "import numpy as np"
   ]
  },
  {
   "cell_type": "code",
   "execution_count": 2,
   "id": "f6766f5c-a73c-49cd-8bb4-6484e0466c40",
   "metadata": {},
   "outputs": [
    {
     "name": "stdout",
     "output_type": "stream",
     "text": [
      "       year     cusip                                 comname          sector  \\\n",
      "0      2002  00105510                      AFLAC INCORPORATED      FinanceIns   \n",
      "1      2002  00195750                              AT&T CORP.  DidNotIdentify   \n",
      "2      2002  00282410                     ABBOTT LABORATORIES   Manufacturing   \n",
      "3      2002  00724F10                              ADOBE INC.  DidNotIdentify   \n",
      "4      2002  00790310            ADVANCED MICRO DEVICES, INC.   Manufacturing   \n",
      "...     ...       ...                                     ...             ...   \n",
      "30469  2023  98980G10                           ZSCALER, INC.  DidNotIdentify   \n",
      "30470  2023  98980L10               ZOOM COMMUNICATIONS, INC.  DidNotIdentify   \n",
      "30471  2023  98981710                             ZUMIEZ INC.  DidNotIdentify   \n",
      "30472  2023  98983L10  ZURN ELKAY WATER SOLUTIONS CORPORATION   Manufacturing   \n",
      "30473  2023  98983V10                             ZUORA, INC.      FinanceIns   \n",
      "\n",
      "      AnalyticCO2EstimationMethod  \\\n",
      "0                          Median   \n",
      "1                          Median   \n",
      "2                        Reported   \n",
      "3                          Median   \n",
      "4                          Median   \n",
      "...                           ...   \n",
      "30469                         CO2   \n",
      "30470                    Reported   \n",
      "30471                      Median   \n",
      "30472                    Reported   \n",
      "30473                    Reported   \n",
      "\n",
      "       AnalyticEstimatesCO2EquivalentsEmissionTotal  TotalAssets  \n",
      "0                                          46014.20    45058.000  \n",
      "1                                        1534080.00    55272.000  \n",
      "2                                         364000.00    24259.102  \n",
      "3                                          34716.10     1051.610  \n",
      "4                                         101348.00     5619.181  \n",
      "...                                             ...          ...  \n",
      "30469                                      31032.60     3608.317  \n",
      "30470                                      21373.00     8128.065  \n",
      "30471                                       5948.53      747.903  \n",
      "30472                                      23143.00     2667.000  \n",
      "30473                                        469.00      668.598  \n",
      "\n",
      "[30474 rows x 7 columns]\n"
     ]
    }
   ],
   "source": [
    "ESGmeasures = pd.read_csv('RefinitivAndAssets_1_30_25.csv')\n",
    "ESGmeasures.drop('Unnamed: 0', axis=1, inplace=True) # dropping ay additional\n",
    "print(ESGmeasures)"
   ]
  },
  {
   "cell_type": "code",
   "execution_count": 3,
   "id": "2a6ec258-c060-438a-97d4-add5994fc7e4",
   "metadata": {},
   "outputs": [
    {
     "name": "stdout",
     "output_type": "stream",
     "text": [
      "['Median' 'Reported' 'Energy' 'CO2']\n"
     ]
    }
   ],
   "source": [
    "print(ESGmeasures['AnalyticCO2EstimationMethod'].unique())"
   ]
  },
  {
   "cell_type": "markdown",
   "id": "b5b1959a-2f71-4aee-b0b8-a63a2ee4ce91",
   "metadata": {},
   "source": [
    "# Monthly Fama-French Factors from Fama-French Data Library"
   ]
  },
  {
   "cell_type": "markdown",
   "id": "9592be9e-bd4d-4ea6-9706-c9c2cfbe4b8e",
   "metadata": {},
   "source": [
    "Download desired Fama-French factor data from the Fama-French Data Library https://mba.tuck.dartmouth.edu/pages/faculty/ken.french/data_library.html"
   ]
  },
  {
   "cell_type": "code",
   "execution_count": 4,
   "id": "1b207ad0-4b64-4337-b70a-a6dc97b30263",
   "metadata": {},
   "outputs": [
    {
     "name": "stdout",
     "output_type": "stream",
     "text": [
      "     Year  Month  Mkt-RF   SMB   HML   RMW   CMA    RF\n",
      "0    2002      1   -1.44  1.26  3.44  4.69  2.86  0.14\n",
      "1    2002      2   -2.29 -0.36  2.16  8.07  5.11  0.13\n",
      "2    2002      3    4.24  4.25  1.06 -1.78  0.59  0.13\n",
      "3    2002      4   -5.20  6.72  3.88  4.56  5.37  0.15\n",
      "4    2002      5   -1.38 -3.01  1.53  2.36  2.44  0.14\n",
      "..    ...    ...     ...   ...   ...   ...   ...   ...\n",
      "259  2023      8   -2.39 -3.68 -1.08  3.42 -2.37  0.45\n",
      "260  2023      9   -5.24 -1.79  1.45  1.85 -0.84  0.43\n",
      "261  2023     10   -3.18 -4.05  0.19  2.47 -0.67  0.47\n",
      "262  2023     11    8.83 -0.11  1.66 -3.81 -0.99  0.44\n",
      "263  2023     12    4.87  7.33  4.92 -3.04  1.30  0.43\n",
      "\n",
      "[264 rows x 8 columns]\n"
     ]
    }
   ],
   "source": [
    "FF = pd.read_csv('FF_Factors_1_30_25.csv')\n",
    "FF.drop('Unnamed: 0', axis=1, inplace=True) # drop unneccesary columns (I played around with the data file in Excel first)\n",
    "print(FF)"
   ]
  },
  {
   "cell_type": "code",
   "execution_count": 5,
   "id": "ea5938b8-0c64-4e7a-9965-aa89d346f617",
   "metadata": {},
   "outputs": [
    {
     "name": "stdout",
     "output_type": "stream",
     "text": [
      "Year        int64\n",
      "Month       int64\n",
      "Mkt-RF    float64\n",
      "SMB       float64\n",
      "HML       float64\n",
      "RMW       float64\n",
      "CMA       float64\n",
      "RF        float64\n",
      "dtype: object\n"
     ]
    }
   ],
   "source": [
    "print(FF.dtypes) # checking the data types of the imported Fama-French factor data"
   ]
  },
  {
   "cell_type": "markdown",
   "id": "a97c4017-3126-4826-9a66-9f848afa8a64",
   "metadata": {},
   "source": [
    "# Monthly Stock Returns from CRSP"
   ]
  },
  {
   "cell_type": "markdown",
   "id": "b2d56c38-58c7-47f8-87f8-c9b1de35d7a6",
   "metadata": {},
   "source": [
    "Export updated list of represented CUSIPs to pass through CRSP (to get monthly return data)"
   ]
  },
  {
   "cell_type": "code",
   "execution_count": 6,
   "id": "27573f5a-e057-40cb-9330-2ebb6fff542e",
   "metadata": {},
   "outputs": [],
   "source": [
    "# Extract unique values from the column\n",
    "unique_values = ESGmeasures['cusip'].unique()\n",
    "# Write the unique values to a text file\n",
    "with open('finaluniquecusips.txt', 'w') as f:\n",
    "    for value in unique_values:\n",
    "        f.write(str(value) + '\\n')"
   ]
  },
  {
   "cell_type": "markdown",
   "id": "73c54acf-535b-4e8c-844a-2a2597c20286",
   "metadata": {},
   "source": [
    "The 'CRSP_Returns_2_23_25.csv' file is the data I downloaded from CRSP (date, CUSIP, and RET are the key fields to get) using the 'finaluniquecusips.txt' file from above as my CUSIPs for the data query"
   ]
  },
  {
   "cell_type": "code",
   "execution_count": 7,
   "id": "06f12e62-4c08-46b1-8d5d-6b85e82bc1cf",
   "metadata": {},
   "outputs": [
    {
     "name": "stdout",
     "output_type": "stream",
     "text": [
      "              date     cusip        RET\n",
      "0       2002-01-31  46603210   0.226585\n",
      "1       2002-02-28  46603210   0.234078\n",
      "2       2002-03-28  46603210   0.009997\n",
      "3       2002-04-30  46603210   0.030498\n",
      "4       2002-05-31  46603210  -0.060228\n",
      "...            ...       ...        ...\n",
      "684765  2023-08-31  12503M10   0.075745\n",
      "684766  2023-09-29  12503M10   0.043417\n",
      "684767  2023-10-31  12503M10   0.049165\n",
      "684768  2023-11-30  12503M10   0.115016\n",
      "684769  2023-12-29  12503M10  -0.019924\n",
      "\n",
      "[684770 rows x 3 columns]\n"
     ]
    }
   ],
   "source": [
    "CRSP = pd.read_csv('CRSP_Returns_2_23_25.csv')\n",
    "CRSP = CRSP.rename(columns={'CUSIP': 'cusip'})\n",
    "CRSP.drop('PERMNO', axis=1, inplace=True) # removing unnecssary rows\n",
    "print(CRSP)"
   ]
  },
  {
   "cell_type": "markdown",
   "id": "4ae43347-33a9-4c99-9e0b-1cda97169b57",
   "metadata": {},
   "source": [
    "Certain CUSIPs may not have RET available (different CUSIP formatting perhaps, but it's not that many rows out of the large dataset), so we want to see what that looks like and then get rid of them."
   ]
  },
  {
   "cell_type": "code",
   "execution_count": 8,
   "id": "0187fca8-69b6-4fe8-bd29-b392e172caa4",
   "metadata": {},
   "outputs": [
    {
     "name": "stdout",
     "output_type": "stream",
     "text": [
      "              date     cusip  RET\n",
      "387     2012-04-30  29402E10  NaN\n",
      "388     2012-05-31  29402E10  NaN\n",
      "389     2012-06-29  29402E10  NaN\n",
      "390     2012-07-31  29402E10  NaN\n",
      "391     2012-08-31  29402E10  NaN\n",
      "...            ...       ...  ...\n",
      "684512  2010-05-28  11133B40  NaN\n",
      "684513  2010-06-30  11133B40    C\n",
      "684605  2018-02-28  11133B40  NaN\n",
      "684606  2010-05-28  12503M10  NaN\n",
      "684607  2010-06-30  12503M10    C\n",
      "\n",
      "[12017 rows x 3 columns]\n"
     ]
    }
   ],
   "source": [
    "def find_non_float_values(df, column_name):\n",
    "    \"\"\"Finds rows in a DataFrame where a column can't be converted to float.\"\"\"\n",
    "    try:\n",
    "        df[column_name].astype(float)\n",
    "        return pd.DataFrame()  # Return an empty DataFrame if no errors\n",
    "    except ValueError:\n",
    "        # Create a mask to identify rows with conversion errors\n",
    "        mask = pd.to_numeric(df[column_name], errors='coerce').isna()\n",
    "        return df[mask]\n",
    "\n",
    "# Example usage:\n",
    "result = find_non_float_values(CRSP, 'RET')\n",
    "print(result)"
   ]
  },
  {
   "cell_type": "code",
   "execution_count": 9,
   "id": "b55ee739-95a2-46f0-ac05-a28567c3a687",
   "metadata": {},
   "outputs": [],
   "source": [
    "CRSP = CRSP[pd.to_numeric(CRSP['RET'], errors='coerce').notnull()]"
   ]
  },
  {
   "cell_type": "markdown",
   "id": "7a708e77-3af8-4a35-bf18-a847b02c5717",
   "metadata": {},
   "source": [
    "Converting the CRSP dataframe into the same data types as our other dataset for consistency when merged"
   ]
  },
  {
   "cell_type": "code",
   "execution_count": 10,
   "id": "8033c30c-61df-460c-890e-ff838b54c771",
   "metadata": {},
   "outputs": [
    {
     "name": "stdout",
     "output_type": "stream",
     "text": [
      "             date     cusip       RET  Year  Month\n",
      "0      2002-01-31  46603210  0.226585  2002      1\n",
      "1      2002-02-28  46603210  0.234078  2002      2\n",
      "2      2002-03-28  46603210  0.009997  2002      3\n",
      "3      2002-04-30  46603210  0.030498  2002      4\n",
      "4      2002-05-31  46603210 -0.060228  2002      5\n",
      "...           ...       ...       ...   ...    ...\n",
      "684765 2023-08-31  12503M10  0.075745  2023      8\n",
      "684766 2023-09-29  12503M10  0.043417  2023      9\n",
      "684767 2023-10-31  12503M10  0.049165  2023     10\n",
      "684768 2023-11-30  12503M10  0.115016  2023     11\n",
      "684769 2023-12-29  12503M10 -0.019924  2023     12\n",
      "\n",
      "[672753 rows x 5 columns]\n"
     ]
    }
   ],
   "source": [
    "CRSP['RET'] = CRSP['RET'].astype(float)\n",
    "CRSP['date'] = pd.to_datetime(CRSP['date'])\n",
    "# Extract Month and Year\n",
    "CRSP['Year'] = CRSP['date'].dt.year\n",
    "CRSP['Month'] = CRSP['date'].dt.month\n",
    "print(CRSP)"
   ]
  },
  {
   "cell_type": "markdown",
   "id": "1181000a-babe-4121-8c0b-9cd7e3e6a454",
   "metadata": {},
   "source": [
    "# Merging FF Factors onto CRSP Dataset"
   ]
  },
  {
   "cell_type": "code",
   "execution_count": 11,
   "id": "c88dca41-c8df-4ae1-a7cb-9d445de7c229",
   "metadata": {},
   "outputs": [],
   "source": [
    "CRSP_FF = pd.merge(CRSP, FF, on=['Year', 'Month'])"
   ]
  },
  {
   "cell_type": "code",
   "execution_count": 12,
   "id": "aa7aaea6-4bb2-4f61-bb74-9c1395569443",
   "metadata": {},
   "outputs": [
    {
     "name": "stdout",
     "output_type": "stream",
     "text": [
      "date      0\n",
      "cusip     0\n",
      "RET       0\n",
      "Year      0\n",
      "Month     0\n",
      "Mkt-RF    0\n",
      "SMB       0\n",
      "HML       0\n",
      "RMW       0\n",
      "CMA       0\n",
      "RF        0\n",
      "dtype: int64\n"
     ]
    }
   ],
   "source": [
    "# Double checking that there is no missing data\n",
    "nan_count_per_column = CRSP_FF.isna().sum()\n",
    "print(nan_count_per_column)"
   ]
  },
  {
   "cell_type": "markdown",
   "id": "13e4f8c2-6407-4b48-9d75-919e58d4900f",
   "metadata": {},
   "source": [
    "# Calculating Excess Returns of Stocks"
   ]
  },
  {
   "cell_type": "code",
   "execution_count": 13,
   "id": "17bbdfea-1a89-41b2-ae03-2185a78fe747",
   "metadata": {},
   "outputs": [
    {
     "name": "stdout",
     "output_type": "stream",
     "text": [
      "           cusip       RET  year  Month  Mkt-RF   SMB   HML   RMW   CMA    RF  \\\n",
      "0       46603210  0.226585  2002      1   -1.44  1.26  3.44  4.69  2.86  0.14   \n",
      "1       46603210  0.234078  2002      2   -2.29 -0.36  2.16  8.07  5.11  0.13   \n",
      "2       46603210  0.009997  2002      3    4.24  4.25  1.06 -1.78  0.59  0.13   \n",
      "3       46603210  0.030498  2002      4   -5.20  6.72  3.88  4.56  5.37  0.15   \n",
      "4       46603210 -0.060228  2002      5   -1.38 -3.01  1.53  2.36  2.44  0.14   \n",
      "...          ...       ...   ...    ...     ...   ...   ...   ...   ...   ...   \n",
      "672748  12503M10  0.075745  2023      8   -2.39 -3.68 -1.08  3.42 -2.37  0.45   \n",
      "672749  12503M10  0.043417  2023      9   -5.24 -1.79  1.45  1.85 -0.84  0.43   \n",
      "672750  12503M10  0.049165  2023     10   -3.18 -4.05  0.19  2.47 -0.67  0.47   \n",
      "672751  12503M10  0.115016  2023     11    8.83 -0.11  1.66 -3.81 -0.99  0.44   \n",
      "672752  12503M10 -0.019924  2023     12    4.87  7.33  4.92 -3.04  1.30  0.43   \n",
      "\n",
      "        ExcessReturn  \n",
      "0           0.086585  \n",
      "1           0.104078  \n",
      "2          -0.120003  \n",
      "3          -0.119502  \n",
      "4          -0.200228  \n",
      "...              ...  \n",
      "672748     -0.374255  \n",
      "672749     -0.386583  \n",
      "672750     -0.420835  \n",
      "672751     -0.324984  \n",
      "672752     -0.449924  \n",
      "\n",
      "[672753 rows x 11 columns]\n"
     ]
    }
   ],
   "source": [
    "CRSP_FF['ExcessReturn'] = CRSP_FF['RET'] - CRSP_FF['RF']\n",
    "CRSP_FF.drop(['date'], axis=1, inplace=True)\n",
    "CRSP_FF.rename(columns = {'Year':'year'}, inplace = True)\n",
    "print(CRSP_FF)"
   ]
  },
  {
   "cell_type": "markdown",
   "id": "f86a9e80-7aa4-4272-8d0f-32270bbfa824",
   "metadata": {},
   "source": [
    "# Merging EVERYTHING Together (ESG, Total Assets, FF Factors, CRSP Returns)"
   ]
  },
  {
   "cell_type": "code",
   "execution_count": 14,
   "id": "2aca1bdc-3133-423b-b270-b076ac5160f5",
   "metadata": {},
   "outputs": [],
   "source": [
    "# Merge the CRSP and FF data with the data we previously gathered and cleaned\n",
    "allrelevantdata = pd.merge(CRSP_FF, ESGmeasures, on=['year', 'cusip'])"
   ]
  },
  {
   "cell_type": "code",
   "execution_count": 15,
   "id": "c227b24e-4890-4eb4-b014-969e1a69eb9a",
   "metadata": {},
   "outputs": [
    {
     "name": "stdout",
     "output_type": "stream",
     "text": [
      "cusip                                           0\n",
      "RET                                             0\n",
      "year                                            0\n",
      "Month                                           0\n",
      "Mkt-RF                                          0\n",
      "SMB                                             0\n",
      "HML                                             0\n",
      "RMW                                             0\n",
      "CMA                                             0\n",
      "RF                                              0\n",
      "ExcessReturn                                    0\n",
      "comname                                         0\n",
      "sector                                          0\n",
      "AnalyticCO2EstimationMethod                     0\n",
      "AnalyticEstimatesCO2EquivalentsEmissionTotal    0\n",
      "TotalAssets                                     0\n",
      "dtype: int64\n"
     ]
    }
   ],
   "source": [
    "# Double checking that there are no rows with missing data\n",
    "print(allrelevantdata.isna().sum())"
   ]
  },
  {
   "cell_type": "code",
   "execution_count": 16,
   "id": "c9fe4807-650c-493a-818c-22d392c498ed",
   "metadata": {},
   "outputs": [
    {
     "name": "stdout",
     "output_type": "stream",
     "text": [
      "           cusip       RET  year  Month  Mkt-RF   SMB   HML   RMW   CMA    RF  \\\n",
      "0       46603210 -0.097913  2015      1   -3.11 -0.92 -3.59  1.61 -1.65  0.00   \n",
      "1       46603210  0.031288  2015      2    6.13  0.32 -1.86 -1.12 -1.82  0.00   \n",
      "2       46603210  0.058010  2015      3   -1.12  3.07 -0.38  0.09 -0.52  0.00   \n",
      "3       46603210 -0.022212  2015      4    0.59 -3.09  1.82  0.06 -0.61  0.00   \n",
      "4       46603210  0.033260  2015      5    1.36  0.84 -1.15 -1.80 -0.75  0.00   \n",
      "...          ...       ...   ...    ...     ...   ...   ...   ...   ...   ...   \n",
      "362828  12503M10  0.075745  2023      8   -2.39 -3.68 -1.08  3.42 -2.37  0.45   \n",
      "362829  12503M10  0.043417  2023      9   -5.24 -1.79  1.45  1.85 -0.84  0.43   \n",
      "362830  12503M10  0.049165  2023     10   -3.18 -4.05  0.19  2.47 -0.67  0.47   \n",
      "362831  12503M10  0.115016  2023     11    8.83 -0.11  1.66 -3.81 -0.99  0.44   \n",
      "362832  12503M10 -0.019924  2023     12    4.87  7.33  4.92 -3.04  1.30  0.43   \n",
      "\n",
      "        ExcessReturn                    comname         sector  \\\n",
      "0          -0.097913    J & J SNACK FOODS CORP.  Manufacturing   \n",
      "1           0.031288    J & J SNACK FOODS CORP.  Manufacturing   \n",
      "2           0.058010    J & J SNACK FOODS CORP.  Manufacturing   \n",
      "3          -0.022212    J & J SNACK FOODS CORP.  Manufacturing   \n",
      "4           0.033260    J & J SNACK FOODS CORP.  Manufacturing   \n",
      "...              ...                        ...            ...   \n",
      "362828     -0.374255  CBOE GLOBAL MARKETS, INC.     FinanceIns   \n",
      "362829     -0.386583  CBOE GLOBAL MARKETS, INC.     FinanceIns   \n",
      "362830     -0.420835  CBOE GLOBAL MARKETS, INC.     FinanceIns   \n",
      "362831     -0.324984  CBOE GLOBAL MARKETS, INC.     FinanceIns   \n",
      "362832     -0.449924  CBOE GLOBAL MARKETS, INC.     FinanceIns   \n",
      "\n",
      "       AnalyticCO2EstimationMethod  \\\n",
      "0                           Median   \n",
      "1                           Median   \n",
      "2                           Median   \n",
      "3                           Median   \n",
      "4                           Median   \n",
      "...                            ...   \n",
      "362828                    Reported   \n",
      "362829                    Reported   \n",
      "362830                    Reported   \n",
      "362831                    Reported   \n",
      "362832                    Reported   \n",
      "\n",
      "        AnalyticEstimatesCO2EquivalentsEmissionTotal  TotalAssets  \n",
      "0                                            91918.0      742.935  \n",
      "1                                            91918.0      742.935  \n",
      "2                                            91918.0      742.935  \n",
      "3                                            91918.0      742.935  \n",
      "4                                            91918.0      742.935  \n",
      "...                                              ...          ...  \n",
      "362828                                       13523.0     7487.500  \n",
      "362829                                       13523.0     7487.500  \n",
      "362830                                       13523.0     7487.500  \n",
      "362831                                       13523.0     7487.500  \n",
      "362832                                       13523.0     7487.500  \n",
      "\n",
      "[362833 rows x 16 columns]\n"
     ]
    }
   ],
   "source": [
    "print(allrelevantdata)"
   ]
  },
  {
   "cell_type": "code",
   "execution_count": 17,
   "id": "23bec889-0f31-4544-86d0-b752e913adf9",
   "metadata": {},
   "outputs": [],
   "source": [
    "# Export this cleaned dataset (contains everything we need to create factordata!)\n",
    "allrelevantdata.to_csv('relevantdata.csv', index=False)"
   ]
  }
 ],
 "metadata": {
  "kernelspec": {
   "display_name": "Python 3 (ipykernel)",
   "language": "python",
   "name": "python3"
  },
  "language_info": {
   "codemirror_mode": {
    "name": "ipython",
    "version": 3
   },
   "file_extension": ".py",
   "mimetype": "text/x-python",
   "name": "python",
   "nbconvert_exporter": "python",
   "pygments_lexer": "ipython3",
   "version": "3.12.4"
  }
 },
 "nbformat": 4,
 "nbformat_minor": 5
}
