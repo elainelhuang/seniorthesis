{
 "cells": [
  {
   "cell_type": "code",
   "execution_count": 1,
   "id": "32b9c142-dabd-495b-8fb9-54b4c10cb870",
   "metadata": {},
   "outputs": [],
   "source": [
    "# Importing necessary packages\n",
    "import pandas as pd\n",
    "import numpy as np\n",
    "import matplotlib.pyplot as plt"
   ]
  },
  {
   "cell_type": "markdown",
   "id": "4f7180b1-ec29-42c4-b8c5-9a6f61b06f0e",
   "metadata": {},
   "source": [
    "# Pivoting"
   ]
  },
  {
   "cell_type": "code",
   "execution_count": 2,
   "id": "77a1427a-6604-4d29-a7b7-f444fd40a5b9",
   "metadata": {},
   "outputs": [],
   "source": [
    "# Importing the .csv saved at the end of STEP 1 (with cleaned CUSIPs and sectors + unnecessary fields removed)\n",
    "refinitiv = pd.read_csv('CleanedNonPivot_1_30_25.csv', header=0)"
   ]
  },
  {
   "cell_type": "code",
   "execution_count": 3,
   "id": "17a3c0c8-3656-4be6-a200-eb1f776d1d2f",
   "metadata": {},
   "outputs": [
    {
     "name": "stdout",
     "output_type": "stream",
     "text": [
      "           year     cusip                                 comname  \\\n",
      "fieldname                                                           \n",
      "0          2002  00105510                      AFLAC INCORPORATED   \n",
      "1          2002  00184A10                        TIME WARNER INC.   \n",
      "2          2002  00185310                        Clearfield, Inc.   \n",
      "3          2002  00195750                              AT&T CORP.   \n",
      "4          2002  00282410                     ABBOTT LABORATORIES   \n",
      "...         ...       ...                                     ...   \n",
      "40313      2023  98980G10                           ZSCALER, INC.   \n",
      "40314      2023  98980L10               ZOOM COMMUNICATIONS, INC.   \n",
      "40315      2023  98981710                             ZUMIEZ INC.   \n",
      "40316      2023  98983L10  ZURN ELKAY WATER SOLUTIONS CORPORATION   \n",
      "40317      2023  98983V10                             ZUORA, INC.   \n",
      "\n",
      "                   sector                       value  \\\n",
      "fieldname                 AnalyticCO2EstimationMethod   \n",
      "0              FinanceIns                      Median   \n",
      "1             Information                      Median   \n",
      "2           Manufacturing                      Median   \n",
      "3          DidNotIdentify                      Median   \n",
      "4           Manufacturing                    Reported   \n",
      "...                   ...                         ...   \n",
      "40313      DidNotIdentify                         CO2   \n",
      "40314      DidNotIdentify                    Reported   \n",
      "40315      DidNotIdentify                      Median   \n",
      "40316       Manufacturing                    Reported   \n",
      "40317          FinanceIns                    Reported   \n",
      "\n",
      "                                                        \n",
      "fieldname AnalyticEstimatesCO2EquivalentsEmissionTotal  \n",
      "0                                              46014.2  \n",
      "1                                               546987  \n",
      "2                                               252.08  \n",
      "3                                              1534080  \n",
      "4                                               364000  \n",
      "...                                                ...  \n",
      "40313                                          31032.6  \n",
      "40314                                            21373  \n",
      "40315                                          5948.53  \n",
      "40316                                            23143  \n",
      "40317                                              469  \n",
      "\n",
      "[40318 rows x 6 columns]\n"
     ]
    }
   ],
   "source": [
    "# Pivot the data so that each fieldname is a separate column\n",
    "df = refinitiv.copy()\n",
    "pivot = pd.pivot(df, values=['value'], index=['year', 'cusip', 'comname', 'sector'], columns=['fieldname'])\n",
    "pivot = pivot.reset_index()\n",
    "print(pivot)"
   ]
  },
  {
   "cell_type": "code",
   "execution_count": 4,
   "id": "008cdd33-c1fe-4ce3-aa4f-d392581d2baa",
   "metadata": {},
   "outputs": [
    {
     "name": "stdout",
     "output_type": "stream",
     "text": [
      "['AnalyticCO2EstimationMethod', 'AnalyticEstimatesCO2EquivalentsEmissionTotal']\n",
      "       year     cusip                                 comname          sector  \\\n",
      "0      2002  00105510                      AFLAC INCORPORATED      FinanceIns   \n",
      "1      2002  00184A10                        TIME WARNER INC.     Information   \n",
      "2      2002  00185310                        Clearfield, Inc.   Manufacturing   \n",
      "3      2002  00195750                              AT&T CORP.  DidNotIdentify   \n",
      "4      2002  00282410                     ABBOTT LABORATORIES   Manufacturing   \n",
      "...     ...       ...                                     ...             ...   \n",
      "40313  2023  98980G10                           ZSCALER, INC.  DidNotIdentify   \n",
      "40314  2023  98980L10               ZOOM COMMUNICATIONS, INC.  DidNotIdentify   \n",
      "40315  2023  98981710                             ZUMIEZ INC.  DidNotIdentify   \n",
      "40316  2023  98983L10  ZURN ELKAY WATER SOLUTIONS CORPORATION   Manufacturing   \n",
      "40317  2023  98983V10                             ZUORA, INC.      FinanceIns   \n",
      "\n",
      "      AnalyticCO2EstimationMethod AnalyticEstimatesCO2EquivalentsEmissionTotal  \n",
      "0                          Median                                      46014.2  \n",
      "1                          Median                                       546987  \n",
      "2                          Median                                       252.08  \n",
      "3                          Median                                      1534080  \n",
      "4                        Reported                                       364000  \n",
      "...                           ...                                          ...  \n",
      "40313                         CO2                                      31032.6  \n",
      "40314                    Reported                                        21373  \n",
      "40315                      Median                                      5948.53  \n",
      "40316                    Reported                                        23143  \n",
      "40317                    Reported                                          469  \n",
      "\n",
      "[40318 rows x 6 columns]\n"
     ]
    }
   ],
   "source": [
    "# Drop the upper level of the column index\n",
    "fieldnames = [col[1] for col in pivot.columns if col[0] == 'value']\n",
    "print(fieldnames)\n",
    "\n",
    "pivot = pivot.droplevel(0, axis=1)\n",
    "\n",
    "columnnames = ['year', 'cusip', 'comname', 'sector'] + fieldnames\n",
    "pivot.columns = columnnames\n",
    "\n",
    "print(pivot)"
   ]
  },
  {
   "cell_type": "markdown",
   "id": "efde6a95-e63d-4100-98e5-cf2f1d80b059",
   "metadata": {},
   "source": [
    "# Getting Total Assets Data from Compustat"
   ]
  },
  {
   "cell_type": "code",
   "execution_count": 5,
   "id": "060c2e56-eeea-40bb-8bf7-d79856af3edb",
   "metadata": {},
   "outputs": [],
   "source": [
    "# Save all unique CUSIPs in the pivoted table above as a .txt file\n",
    "unique_cusips = pivot['cusip'].unique()\n",
    "np.savetxt('refinitivcusips_1_30_25.txt', unique_cusips, delimiter='\\n', fmt='%s')"
   ]
  },
  {
   "cell_type": "markdown",
   "id": "eed24b71-5523-4ab1-b676-585ebd804c0e",
   "metadata": {},
   "source": [
    "Use CUSIP convertor https://wrds-www.wharton.upenn.edu/pages/get-data/compustat-capital-iq-standard-poors/tools/cusip-converter/ to convert to 9 digits (so it matches Compustat's)."
   ]
  },
  {
   "cell_type": "markdown",
   "id": "4ba93ea2-541f-4ff3-9eed-dbe492e6e4ae",
   "metadata": {},
   "source": [
    "Pull data from Compustat using list of CUSIPs above: **We need the data point at (Total Assets).**\n",
    "\n",
    "CRSP/Compustat merged dataset in WRDS (https://wrds-www.wharton.upenn.edu/pages/get-data/center-research-security-prices-crsp/annual-update/crspcompustat-merged/fundamentals-annual-with-prices/). You can get annual fundamentals, since they are only published once a year. Leave everything as is, and in the Compustat Variables look for “Assets - Total (at)”, while in the CRSP ones select the variables that you need to merge the datasets (either CUSIP, TICKER, PERMNO). This should match the ones you have already! "
   ]
  },
  {
   "cell_type": "code",
   "execution_count": 6,
   "id": "79b4a27d-437d-4cf7-841f-f696c6e2112f",
   "metadata": {},
   "outputs": [
    {
     "name": "stdout",
     "output_type": "stream",
     "text": [
      "       gvkey    datadate indfmt consol popsrc datafmt      cusip curcd  \\\n",
      "0      39527  2022-12-31   INDL      C      D     STD  00032Q104   USD   \n",
      "1      39527  2023-12-31   INDL      C      D     STD  00032Q104   USD   \n",
      "2      21542  2002-12-31   INDL      C      D     STD  000360206   USD   \n",
      "3      21542  2003-12-31   INDL      C      D     STD  000360206   USD   \n",
      "4      21542  2004-12-31   INDL      C      D     STD  000360206   USD   \n",
      "...      ...         ...    ...    ...    ...     ...        ...   ...   \n",
      "56551  25128  2018-12-31   INDL      C      D     STD  98986X109   USD   \n",
      "56552  25128  2019-12-31   INDL      C      D     STD  98986X109   USD   \n",
      "56553  25128  2020-12-31   INDL      C      D     STD  98986X109   USD   \n",
      "56554  25128  2021-12-31   INDL      C      D     STD  98986X109   USD   \n",
      "56555  25128  2022-12-31   INDL      C      D     STD  98986X109   USD   \n",
      "\n",
      "            at costat LINKTYPE  LPERMNO    MthCalDt  \n",
      "0      184.237      A       LC    17869  2022-12-30  \n",
      "1      132.423      A       LC    17869  2023-12-29  \n",
      "2       91.713      A       LU    76868  2002-12-31  \n",
      "3      102.085      A       LU    76868  2003-12-31  \n",
      "4      105.227      A       LU    76868  2004-12-31  \n",
      "...        ...    ...      ...      ...         ...  \n",
      "56551   67.327      I       LC    15646  2018-12-31  \n",
      "56552   87.765      I       LC    15646  2019-12-31  \n",
      "56553   74.057      I       LC    15646  2020-12-31  \n",
      "56554   81.172      I       LC    15646  2021-12-31  \n",
      "56555   55.521      I       LC    15646  2022-12-30  \n",
      "\n",
      "[56556 rows x 13 columns]\n"
     ]
    }
   ],
   "source": [
    "# 'compustat_1_30_25.csv' is the data file containing at (Total Assets) downloaded directly from CRSP\n",
    "compustat = pd.read_csv('compustat_1_30_25.csv', header=0)\n",
    "print(compustat)"
   ]
  },
  {
   "cell_type": "code",
   "execution_count": 7,
   "id": "d766da36-361a-4697-b1f3-cb7dbc283d2e",
   "metadata": {},
   "outputs": [
    {
     "name": "stdout",
     "output_type": "stream",
     "text": [
      "           cusip        date  TotalAssets\n",
      "0      00032Q104  2022-12-31      184.237\n",
      "1      00032Q104  2023-12-31      132.423\n",
      "2      000360206  2002-12-31       91.713\n",
      "3      000360206  2003-12-31      102.085\n",
      "4      000360206  2004-12-31      105.227\n",
      "...          ...         ...          ...\n",
      "56551  98986X109  2018-12-31       67.327\n",
      "56552  98986X109  2019-12-31       87.765\n",
      "56553  98986X109  2020-12-31       74.057\n",
      "56554  98986X109  2021-12-31       81.172\n",
      "56555  98986X109  2022-12-31       55.521\n",
      "\n",
      "[56556 rows x 3 columns]\n"
     ]
    }
   ],
   "source": [
    "# Keep only relevant columns and rename to more familiar/intuitive column names\n",
    "relevant = compustat.copy()[['cusip', 'datadate', 'at']]\n",
    "relevant.rename(columns = {'at':'TotalAssets'}, inplace = True)\n",
    "relevant.rename(columns = {'datadate':'date'}, inplace = True)\n",
    "print(relevant)"
   ]
  },
  {
   "cell_type": "code",
   "execution_count": 8,
   "id": "70db1391-c7a6-4f21-be08-183a6f16c0d1",
   "metadata": {},
   "outputs": [],
   "source": [
    "# Convert into relevant data formats\n",
    "relevant['TotalAssets'] = relevant['TotalAssets'].astype(float)\n",
    "relevant['date'] = pd.to_datetime(relevant['date'])\n",
    "relevant['year'] = relevant['date'].dt.year\n",
    "relevant['year'] = relevant['year'].astype(int)\n",
    "relevant.drop(['date'], axis=1, inplace=True)"
   ]
  },
  {
   "cell_type": "code",
   "execution_count": 9,
   "id": "0f3e31dd-eac4-4b54-bef1-d0d54a388aab",
   "metadata": {},
   "outputs": [
    {
     "name": "stdout",
     "output_type": "stream",
     "text": [
      "          cusip  TotalAssets  year\n",
      "0      00032Q10      184.237  2022\n",
      "1      00032Q10      132.423  2023\n",
      "2      00036020       91.713  2002\n",
      "3      00036020      102.085  2003\n",
      "4      00036020      105.227  2004\n",
      "...         ...          ...   ...\n",
      "56551  98986X10       67.327  2018\n",
      "56552  98986X10       87.765  2019\n",
      "56553  98986X10       74.057  2020\n",
      "56554  98986X10       81.172  2021\n",
      "56555  98986X10       55.521  2022\n",
      "\n",
      "[56556 rows x 3 columns]\n"
     ]
    }
   ],
   "source": [
    "# Remove the last character from each string in 'cusip' to get back to 8-digit CUSIPs\n",
    "relevant['cusip'] = relevant['cusip'].str[:-1]\n",
    "print(relevant)"
   ]
  },
  {
   "cell_type": "code",
   "execution_count": 10,
   "id": "42011208-bcd9-4595-9c37-40083416cc66",
   "metadata": {},
   "outputs": [
    {
     "name": "stdout",
     "output_type": "stream",
     "text": [
      "[8]\n"
     ]
    }
   ],
   "source": [
    "# Confirming that all CUSIPs only 8 digits (so CUSIP digit length is consistent across different data sources)\n",
    "relevantcopy = relevant.copy()\n",
    "relevantcopy['cusipDigits'] = relevantcopy['cusip'].str.len()\n",
    "print(relevantcopy['cusipDigits'].unique())"
   ]
  },
  {
   "cell_type": "markdown",
   "id": "9f8cad18-4fb0-4869-beeb-29d96d6576ac",
   "metadata": {},
   "source": [
    "# Merging the Datasets"
   ]
  },
  {
   "cell_type": "code",
   "execution_count": 11,
   "id": "9d72e525-2efc-474a-987d-5eb32400be72",
   "metadata": {},
   "outputs": [
    {
     "name": "stdout",
     "output_type": "stream",
     "text": [
      "       year     cusip                                 comname          sector  \\\n",
      "0      2002  00105510                      AFLAC INCORPORATED      FinanceIns   \n",
      "1      2002  00195750                              AT&T CORP.  DidNotIdentify   \n",
      "2      2002  00282410                     ABBOTT LABORATORIES   Manufacturing   \n",
      "3      2002  00724F10                              ADOBE INC.  DidNotIdentify   \n",
      "4      2002  00790310            ADVANCED MICRO DEVICES, INC.   Manufacturing   \n",
      "...     ...       ...                                     ...             ...   \n",
      "30474  2023  98980G10                           ZSCALER, INC.  DidNotIdentify   \n",
      "30475  2023  98980L10               ZOOM COMMUNICATIONS, INC.  DidNotIdentify   \n",
      "30476  2023  98981710                             ZUMIEZ INC.  DidNotIdentify   \n",
      "30477  2023  98983L10  ZURN ELKAY WATER SOLUTIONS CORPORATION   Manufacturing   \n",
      "30478  2023  98983V10                             ZUORA, INC.      FinanceIns   \n",
      "\n",
      "      AnalyticCO2EstimationMethod  \\\n",
      "0                          Median   \n",
      "1                          Median   \n",
      "2                        Reported   \n",
      "3                          Median   \n",
      "4                          Median   \n",
      "...                           ...   \n",
      "30474                         CO2   \n",
      "30475                    Reported   \n",
      "30476                      Median   \n",
      "30477                    Reported   \n",
      "30478                    Reported   \n",
      "\n",
      "      AnalyticEstimatesCO2EquivalentsEmissionTotal  TotalAssets  \n",
      "0                                          46014.2    45058.000  \n",
      "1                                          1534080    55272.000  \n",
      "2                                           364000    24259.102  \n",
      "3                                          34716.1     1051.610  \n",
      "4                                           101348     5619.181  \n",
      "...                                            ...          ...  \n",
      "30474                                      31032.6     3608.317  \n",
      "30475                                        21373     8128.065  \n",
      "30476                                      5948.53      747.903  \n",
      "30477                                        23143     2667.000  \n",
      "30478                                          469      668.598  \n",
      "\n",
      "[30479 rows x 7 columns]\n"
     ]
    }
   ],
   "source": [
    "# Merge original data containing year, cusip, comname, sector and the CO2 columns\n",
    "    # with the Compustat total assets data (merging on year and cusip!)\n",
    "merged = pd.merge(pivot, relevant, on=['year', 'cusip'])\n",
    "print(merged)"
   ]
  },
  {
   "cell_type": "code",
   "execution_count": 12,
   "id": "6cb31a09-eb89-415a-840d-ce13a5ad54bd",
   "metadata": {},
   "outputs": [
    {
     "name": "stdout",
     "output_type": "stream",
     "text": [
      "year                                            0\n",
      "cusip                                           0\n",
      "comname                                         0\n",
      "sector                                          0\n",
      "AnalyticCO2EstimationMethod                     0\n",
      "AnalyticEstimatesCO2EquivalentsEmissionTotal    0\n",
      "TotalAssets                                     0\n",
      "dtype: int64\n"
     ]
    }
   ],
   "source": [
    "# Remove rows with missing data\n",
    "merged.dropna(subset=['year'], inplace=True)\n",
    "merged.dropna(subset=['cusip'], inplace=True)\n",
    "merged.dropna(subset=['comname'], inplace=True)\n",
    "merged.dropna(subset=['sector'], inplace=True)\n",
    "merged.dropna(subset=['AnalyticCO2EstimationMethod'], inplace=True)\n",
    "merged.dropna(subset=['AnalyticEstimatesCO2EquivalentsEmissionTotal'], inplace=True)\n",
    "merged.dropna(subset=['TotalAssets'], inplace=True)\n",
    "\n",
    "missing_counts = merged.isnull().sum()\n",
    "print(missing_counts)"
   ]
  },
  {
   "cell_type": "code",
   "execution_count": 13,
   "id": "af04c6c9-c5ac-4e28-80ea-6786f512db6f",
   "metadata": {},
   "outputs": [],
   "source": [
    "# Export this cleaned dataset (pivoted, with clean CUSIPs, Sectors, AND Total Assets) as a .csv and proceed to Step 3\n",
    "merged.to_csv('RefinitivAndAssets_1_30_25.csv')"
   ]
  }
 ],
 "metadata": {
  "kernelspec": {
   "display_name": "Python 3 (ipykernel)",
   "language": "python",
   "name": "python3"
  },
  "language_info": {
   "codemirror_mode": {
    "name": "ipython",
    "version": 3
   },
   "file_extension": ".py",
   "mimetype": "text/x-python",
   "name": "python",
   "nbconvert_exporter": "python",
   "pygments_lexer": "ipython3",
   "version": "3.12.4"
  }
 },
 "nbformat": 4,
 "nbformat_minor": 5
}
