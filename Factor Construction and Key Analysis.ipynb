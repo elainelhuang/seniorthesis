{
 "cells": [
  {
   "cell_type": "code",
   "execution_count": 1,
   "id": "20a1d117-57e0-40c1-9357-9b9b2e3c9b7d",
   "metadata": {},
   "outputs": [],
   "source": [
    "# Importing necessary packages\n",
    "import pandas as pd\n",
    "import numpy as np\n",
    "import matplotlib.pyplot as plt"
   ]
  },
  {
   "cell_type": "code",
   "execution_count": 2,
   "id": "b0311584-f8a3-471b-aa42-cb77971e96b6",
   "metadata": {},
   "outputs": [],
   "source": [
    "# 'relevantdata.csv' was the cleaned dataset containing all relevant data, saved after Step 3 of the data cleaning code\n",
    "data = pd.read_csv('relevantdata.csv')\n",
    "# create month-year labels\n",
    "data['monthyear'] = data['year'].astype(str) + data['Month'].astype(str).str.zfill(2)"
   ]
  },
  {
   "cell_type": "code",
   "execution_count": 3,
   "id": "cccc94e5-3399-404a-90d5-39fb8665a8c3",
   "metadata": {},
   "outputs": [
    {
     "name": "stdout",
     "output_type": "stream",
     "text": [
      "Index(['cusip', 'RET', 'year', 'Month', 'Mkt-RF', 'SMB', 'HML', 'RMW', 'CMA',\n",
      "       'RF', 'ExcessReturn', 'comname', 'sector',\n",
      "       'AnalyticCO2EstimationMethod',\n",
      "       'AnalyticEstimatesCO2EquivalentsEmissionTotal', 'TotalAssets',\n",
      "       'monthyear'],\n",
      "      dtype='object')\n"
     ]
    }
   ],
   "source": [
    "print(data.columns)"
   ]
  },
  {
   "cell_type": "markdown",
   "id": "7fb6547f-3a7f-4348-a067-f86e45e60dc8",
   "metadata": {},
   "source": [
    "# Sector and Estimation Method Cleaning + Analysis"
   ]
  },
  {
   "cell_type": "code",
   "execution_count": 4,
   "id": "fb20bcf3-c9dc-4080-823e-c0a2f022f118",
   "metadata": {},
   "outputs": [
    {
     "name": "stdout",
     "output_type": "stream",
     "text": [
      "                Sector   Count  Percentage\n",
      "0        Manufacturing  114715    0.316165\n",
      "1       DidNotIdentify   64887    0.178834\n",
      "2           FinanceIns   54071    0.149024\n",
      "3             Services   31736    0.087467\n",
      "4           RealEstate   20190    0.055645\n",
      "5               OilGas   14068    0.038773\n",
      "6            Utilities   12234    0.033718\n",
      "7            Wholesale   10121    0.027894\n",
      "8   TransportWarehouse    9720    0.026789\n",
      "9            AccomFood    8188    0.022567\n",
      "10        Construction    5962    0.016432\n",
      "11          Healthcare    5892    0.016239\n",
      "12         Information    5227    0.014406\n",
      "13              Retail    3705    0.010211\n",
      "14          ArtsEntRec    1409    0.003883\n",
      "15         Agriculture     552    0.001521\n",
      "16          Management     156    0.000430\n"
     ]
    }
   ],
   "source": [
    "# Printing the percentages of the total dataset belonging to each sector\n",
    "counts = data['sector'].value_counts().to_frame()\n",
    "# Reset the index to make the unique values a column\n",
    "counts.reset_index(inplace=True)\n",
    "# Rename the columns\n",
    "counts.columns = ['Sector', 'Count']\n",
    "total = counts['Count'].sum()\n",
    "counts['Percentage'] = counts['Count']/total\n",
    "print(counts)"
   ]
  },
  {
   "cell_type": "code",
   "execution_count": 5,
   "id": "fafc0301-2008-49d1-9816-b54c86386b5e",
   "metadata": {},
   "outputs": [],
   "source": [
    "# Drop rows where column 'sector' is equal to 'DidNotIdentify' (can't make assumptions if we don't know the sector)\n",
    "data = data[data['sector'] != 'DidNotIdentify']\n",
    "\n",
    "# Drop sectors that comprise of less than 1% of the total dataset\n",
    "data = data[data['sector'] != 'Management']\n",
    "data = data[data['sector'] != 'Agriculture']\n",
    "data = data[data['sector'] != 'ArtsEntRec']"
   ]
  },
  {
   "cell_type": "code",
   "execution_count": 6,
   "id": "cdbad57e-6a69-40ee-b7aa-7f170c61af30",
   "metadata": {},
   "outputs": [
    {
     "name": "stdout",
     "output_type": "stream",
     "text": [
      "                Sector   Count  Percentage\n",
      "0        Manufacturing  114715    0.387775\n",
      "1           FinanceIns   54071    0.182778\n",
      "2             Services   31736    0.107278\n",
      "3           RealEstate   20190    0.068249\n",
      "4               OilGas   14068    0.047554\n",
      "5            Utilities   12234    0.041355\n",
      "6            Wholesale   10121    0.034212\n",
      "7   TransportWarehouse    9720    0.032857\n",
      "8            AccomFood    8188    0.027678\n",
      "9         Construction    5962    0.020154\n",
      "10          Healthcare    5892    0.019917\n",
      "11         Information    5227    0.017669\n",
      "12              Retail    3705    0.012524\n"
     ]
    }
   ],
   "source": [
    "# Re-printing the percentages of the total dataset belonging to each sector after removing the sectors above\n",
    "counts = data['sector'].value_counts().to_frame()\n",
    "# Reset the index to make the unique values a column\n",
    "counts.reset_index(inplace=True)\n",
    "# Rename the columns\n",
    "counts.columns = ['Sector', 'Count']\n",
    "total = counts['Count'].sum()\n",
    "counts['Percentage'] = counts['Count']/total\n",
    "print(counts)"
   ]
  },
  {
   "cell_type": "markdown",
   "id": "85a9d412-10cc-498f-a7e4-3fff0b66bca6",
   "metadata": {},
   "source": [
    "Analyzing the breakdown of CO$_2$ data sources, in accordance with https://www.lseg.com/content/dam/data-analytics/en_us/documents/fact-sheets/lseg-esg-carbon-data-and-estimate-models.pdf"
   ]
  },
  {
   "cell_type": "code",
   "execution_count": 7,
   "id": "06dab361-ceb2-425e-a7f9-888d9e72b846",
   "metadata": {},
   "outputs": [
    {
     "name": "stdout",
     "output_type": "stream",
     "text": [
      "Total Emissions Data Breakdown\n",
      "     Method   Count  Percentage (%)\n",
      "0    Median  176727       59.739579\n",
      "1  Reported  102916       34.789017\n",
      "2       CO2   10116        3.419543\n",
      "3    Energy    6070        2.051861\n",
      "\n",
      "\n",
      "Estimated Values Breakdown\n",
      "   Method   Count  Percentage (%)\n",
      "0  Median  176727       91.609689\n",
      "2     CO2   10116        5.243815\n",
      "3  Energy    6070        3.146496\n"
     ]
    }
   ],
   "source": [
    "counts = data['AnalyticCO2EstimationMethod'].value_counts().to_frame()\n",
    "# Reset the index to make the unique values a column\n",
    "counts.reset_index(inplace=True)\n",
    "# Rename the columns\n",
    "counts.columns = ['Method', 'Count']\n",
    "total = counts['Count'].sum()\n",
    "counts['Percentage (%)'] = (counts['Count']/total)*100\n",
    "print('Total Emissions Data Breakdown')\n",
    "print(counts)\n",
    "print()\n",
    "latex_table = counts.to_latex(index=False)\n",
    "# print(latex_table)\n",
    "\n",
    "print()\n",
    "print('Estimated Values Breakdown')\n",
    "\n",
    "estimatedcounts = counts.copy()\n",
    "estimatedcounts.drop('Percentage (%)', axis=1, inplace=True)\n",
    "# Drop the second row (index 1)\n",
    "estimatedcounts = estimatedcounts.drop(1)\n",
    "estimatedtotal = estimatedcounts['Count'].sum()\n",
    "estimatedcounts['Percentage (%)'] = (estimatedcounts['Count']/estimatedtotal)*100\n",
    "print(estimatedcounts)"
   ]
  },
  {
   "cell_type": "code",
   "execution_count": 8,
   "id": "bbbfdf4b-d367-4975-bb65-c5caa4e10dbc",
   "metadata": {},
   "outputs": [],
   "source": [
    "# Recategorizing Median, CO2, and Energy methods as a blanket \"Estimated\" category\n",
    "def categorize_method(method):\n",
    "    if method == 'Reported':\n",
    "        return 'Reported'\n",
    "    else:\n",
    "        return 'Estimated'\n",
    "\n",
    "data['Method'] = data['AnalyticCO2EstimationMethod'].apply(categorize_method)"
   ]
  },
  {
   "cell_type": "code",
   "execution_count": 9,
   "id": "2ab26a22-06c8-492d-80c4-7962cbce2e14",
   "metadata": {},
   "outputs": [
    {
     "name": "stdout",
     "output_type": "stream",
     "text": [
      "Sorted by Increasing % Estimated:\n",
      "                 Sector  % Estimated\n",
      "11           Utilities    33.333333\n",
      "6               OilGas    46.204151\n",
      "10  TransportWarehouse    48.271605\n",
      "5        Manufacturing    57.784945\n",
      "7           RealEstate    63.333333\n",
      "0            AccomFood    63.800684\n",
      "8               Retail    68.259109\n",
      "12           Wholesale    68.817311\n",
      "1         Construction    79.469977\n",
      "4          Information    80.026784\n",
      "9             Services    80.170784\n",
      "2           FinanceIns    82.043979\n",
      "3           Healthcare    86.965377\n",
      "\n"
     ]
    }
   ],
   "source": [
    "# Group by SECTOR\n",
    "grouped = data.groupby(['sector', 'Method']).size()\n",
    "grouped_df = grouped.reset_index()\n",
    "grouped_df.columns.values[2] = 'Count'\n",
    "\n",
    "sector_estimation = pd.DataFrame(columns=['Sector', '% Estimated'])\n",
    "\n",
    "i = 0\n",
    "while i < 26:\n",
    "    new_line = {'Sector': grouped_df.iloc[i, 0], '% Estimated': (grouped_df.iloc[i, 2]/(grouped_df.iloc[i, 2]+grouped_df.iloc[i+1, 2]))*100}\n",
    "    sector_estimation.loc[len(sector_estimation)] = new_line\n",
    "    i = i + 2\n",
    "\n",
    "sector_estimation_sorted = sector_estimation.sort_values(by='% Estimated')\n",
    "print(\"Sorted by Increasing % Estimated:\\n\", sector_estimation_sorted)\n",
    "print()\n",
    "latex_table = sector_estimation_sorted.to_latex(index=False)\n",
    "# print(latex_table)"
   ]
  },
  {
   "cell_type": "markdown",
   "id": "8530fef3-6da3-4517-94e0-04b85319bbcb",
   "metadata": {},
   "source": [
    "# Final Cleaning + Preparing Dataset for Factor Construction"
   ]
  },
  {
   "cell_type": "code",
   "execution_count": 10,
   "id": "689a8e78-92d4-4dd6-b2de-5ebf7cf10b2b",
   "metadata": {},
   "outputs": [],
   "source": [
    "dates = pd.date_range(start='2002-01-01', end='2023-12-01', freq='MS')\n",
    "monthyears = dates.strftime('%Y%m').tolist()\n",
    "monthyears = np.array(monthyears)"
   ]
  },
  {
   "cell_type": "code",
   "execution_count": 11,
   "id": "00cb9426-9c2e-4304-9661-d4387d0ca945",
   "metadata": {},
   "outputs": [],
   "source": [
    "cleaned = pd.get_dummies(data, columns=['Method'], dtype = int)\n",
    "cleaned.drop('AnalyticCO2EstimationMethod', axis=1, inplace=True)\n",
    "cleaned.rename(columns={'AnalyticEstimatesCO2EquivalentsEmissionTotal': 'CO2_Total'}, inplace=True)"
   ]
  },
  {
   "cell_type": "code",
   "execution_count": 12,
   "id": "d3e80e21-b227-431c-9f31-e7a51bd06675",
   "metadata": {},
   "outputs": [],
   "source": [
    "# Calculate CO2 Emissions Data Transformations\n",
    "import numpy as np\n",
    "cleaned['ShiftedCO2'] = cleaned['CO2_Total'] + 0.00000001\n",
    "cleaned['LogCO2'] = np.log(cleaned['ShiftedCO2'])\n",
    "cleaned['CO2_Intensity'] = cleaned['CO2_Total']/cleaned['TotalAssets']\n",
    "\n",
    "# Only need one indicator\n",
    "cleaned.drop('Method_Reported', axis=1, inplace=True)"
   ]
  },
  {
   "cell_type": "code",
   "execution_count": 13,
   "id": "509eb282-9cda-43df-ad06-52ed556cd3f0",
   "metadata": {},
   "outputs": [
    {
     "name": "stdout",
     "output_type": "stream",
     "text": [
      "           cusip       RET  year  Month  Mkt-RF   SMB   HML   RMW   CMA    RF  \\\n",
      "0       46603210 -0.097913  2015      1   -3.11 -0.92 -3.59  1.61 -1.65  0.00   \n",
      "1       46603210  0.031288  2015      2    6.13  0.32 -1.86 -1.12 -1.82  0.00   \n",
      "2       46603210  0.058010  2015      3   -1.12  3.07 -0.38  0.09 -0.52  0.00   \n",
      "3       46603210 -0.022212  2015      4    0.59 -3.09  1.82  0.06 -0.61  0.00   \n",
      "4       46603210  0.033260  2015      5    1.36  0.84 -1.15 -1.80 -0.75  0.00   \n",
      "...          ...       ...   ...    ...     ...   ...   ...   ...   ...   ...   \n",
      "362828  12503M10  0.075745  2023      8   -2.39 -3.68 -1.08  3.42 -2.37  0.45   \n",
      "362829  12503M10  0.043417  2023      9   -5.24 -1.79  1.45  1.85 -0.84  0.43   \n",
      "362830  12503M10  0.049165  2023     10   -3.18 -4.05  0.19  2.47 -0.67  0.47   \n",
      "362831  12503M10  0.115016  2023     11    8.83 -0.11  1.66 -3.81 -0.99  0.44   \n",
      "362832  12503M10 -0.019924  2023     12    4.87  7.33  4.92 -3.04  1.30  0.43   \n",
      "\n",
      "        ExcessReturn                    comname         sector  CO2_Total  \\\n",
      "0          -0.097913    J & J SNACK FOODS CORP.  Manufacturing    91918.0   \n",
      "1           0.031288    J & J SNACK FOODS CORP.  Manufacturing    91918.0   \n",
      "2           0.058010    J & J SNACK FOODS CORP.  Manufacturing    91918.0   \n",
      "3          -0.022212    J & J SNACK FOODS CORP.  Manufacturing    91918.0   \n",
      "4           0.033260    J & J SNACK FOODS CORP.  Manufacturing    91918.0   \n",
      "...              ...                        ...            ...        ...   \n",
      "362828     -0.374255  CBOE GLOBAL MARKETS, INC.     FinanceIns    13523.0   \n",
      "362829     -0.386583  CBOE GLOBAL MARKETS, INC.     FinanceIns    13523.0   \n",
      "362830     -0.420835  CBOE GLOBAL MARKETS, INC.     FinanceIns    13523.0   \n",
      "362831     -0.324984  CBOE GLOBAL MARKETS, INC.     FinanceIns    13523.0   \n",
      "362832     -0.449924  CBOE GLOBAL MARKETS, INC.     FinanceIns    13523.0   \n",
      "\n",
      "        TotalAssets monthyear  Method_Estimated  ShiftedCO2     LogCO2  \\\n",
      "0           742.935    201501                 1     91918.0  11.428652   \n",
      "1           742.935    201502                 1     91918.0  11.428652   \n",
      "2           742.935    201503                 1     91918.0  11.428652   \n",
      "3           742.935    201504                 1     91918.0  11.428652   \n",
      "4           742.935    201505                 1     91918.0  11.428652   \n",
      "...             ...       ...               ...         ...        ...   \n",
      "362828     7487.500    202308                 0     13523.0   9.512147   \n",
      "362829     7487.500    202309                 0     13523.0   9.512147   \n",
      "362830     7487.500    202310                 0     13523.0   9.512147   \n",
      "362831     7487.500    202311                 0     13523.0   9.512147   \n",
      "362832     7487.500    202312                 0     13523.0   9.512147   \n",
      "\n",
      "        CO2_Intensity  \n",
      "0          123.722802  \n",
      "1          123.722802  \n",
      "2          123.722802  \n",
      "3          123.722802  \n",
      "4          123.722802  \n",
      "...               ...  \n",
      "362828       1.806077  \n",
      "362829       1.806077  \n",
      "362830       1.806077  \n",
      "362831       1.806077  \n",
      "362832       1.806077  \n",
      "\n",
      "[295829 rows x 20 columns]\n"
     ]
    }
   ],
   "source": [
    "print(cleaned)"
   ]
  },
  {
   "cell_type": "markdown",
   "id": "6c5c7bcc-b776-44b5-842f-1619eade3f67",
   "metadata": {},
   "source": [
    "# Creating the Factor"
   ]
  },
  {
   "cell_type": "code",
   "execution_count": 14,
   "id": "41f3e7d5-c428-4884-a59e-f07493eec6da",
   "metadata": {},
   "outputs": [],
   "source": [
    "def create_FF_factor(data, ESGmeasure, newcolumnname, lowerquant, upperquant):\n",
    "    portfolio_stocks_cusips = pd.DataFrame()\n",
    "    portfolio_stocks_sectors = pd.DataFrame()\n",
    "    portfolio_stocks = pd.DataFrame()\n",
    "    monthly_factors = np.zeros(shape=(len(monthyears), 2))\n",
    "    for i in range(len(monthyears)):\n",
    "        monthly_factors[i][0] = monthyears[i]\n",
    "        subset = (data[data['monthyear'] == monthyears[i]]).copy()\n",
    "        \n",
    "        # Calculate the Lower and Upper Quantiles (as specified)\n",
    "        q_lower = subset[ESGmeasure].quantile(lowerquant)\n",
    "        q_upper = subset[ESGmeasure].quantile(upperquant)\n",
    "        \n",
    "        # Filter the DataFrame\n",
    "        # filtered = subset[(subset[ESGmeasure] < q_lower) | (subset[ESGmeasure] > q_upper)]\n",
    "        # brown stocks have high CO2 emissions\n",
    "        brown = (subset[(subset[ESGmeasure] > q_upper)]).copy()\n",
    "        # green stocks have low CO2 emissions\n",
    "        green = (subset[(subset[ESGmeasure] < q_lower)]).copy()\n",
    "        \n",
    "        # subset['rank'] = subset[ESGmeasure].rank(method='first')\n",
    "        # n = len(subset)\n",
    "        # bottom_n = int(n*lowerquant)\n",
    "        # upper_n = int(n*upperquant)\n",
    "        # green = subset.nsmallest(bottom_n, ESGmeasure).copy()\n",
    "        # brown = subset.nlargest(upper_n, ESGmeasure).copy()\n",
    "        \n",
    "        filtered = pd.concat([green, brown], axis=0)\n",
    "        portfolio_stocks = pd.concat([portfolio_stocks, filtered], axis=0)\n",
    "        \n",
    "        new_stocks = pd.DataFrame({monthyears[i]: filtered['cusip'].to_list()})\n",
    "        portfolio_stocks_cusips = pd.concat([portfolio_stocks_cusips, new_stocks], axis=1)\n",
    "        \n",
    "        new_sectors = pd.DataFrame({monthyears[i]: filtered['sector'].to_list()})\n",
    "        portfolio_stocks_sectors = pd.concat([portfolio_stocks_sectors, new_sectors], axis=1)\n",
    "\n",
    "        # Calculate the (equal) weight of each of the stocks in the selected portfolio\n",
    "        equalweight = 1/filtered.shape[0]\n",
    "\n",
    "        # Calculate long and short returns\n",
    "        green['WeightedReturn'] = green['ExcessReturn'] * equalweight\n",
    "        brown['WeightedReturn'] = brown['ExcessReturn'] * equalweight\n",
    "        \n",
    "        green_sum = green['WeightedReturn'].sum()\n",
    "        brown_sum = brown['WeightedReturn'].sum()\n",
    "\n",
    "        # Long green stocks and short brown stocks\n",
    "        monthly_factor = green_sum - brown_sum\n",
    "        monthly_factors[i][1] = monthly_factor * 100\n",
    "        \n",
    "    df = pd.DataFrame(monthly_factors)\n",
    "    df.columns = ['monthyear', newcolumnname]\n",
    "    df['monthyear'] = df['monthyear'].astype(str) \n",
    "    df['monthyear'] = df['monthyear'].str.replace(r'\\.0$', '', regex=True)\n",
    "    return df, portfolio_stocks_cusips, portfolio_stocks_sectors, portfolio_stocks"
   ]
  },
  {
   "cell_type": "markdown",
   "id": "ee390642-866d-43e1-abdc-e0653a647721",
   "metadata": {},
   "source": [
    "**Creating Factors**"
   ]
  },
  {
   "cell_type": "code",
   "execution_count": 15,
   "id": "980a84fc-f4a6-40a2-8207-3ec955a1208a",
   "metadata": {},
   "outputs": [],
   "source": [
    "factordata = cleaned[['cusip', 'year', 'Month', 'monthyear', 'Mkt-RF', 'SMB', 'HML', 'RF', 'RMW', 'CMA', 'RET', 'ExcessReturn', 'sector', 'CO2_Total', 'TotalAssets', 'LogCO2', 'CO2_Intensity', 'Method_Estimated']]"
   ]
  },
  {
   "cell_type": "code",
   "execution_count": 16,
   "id": "e8ef9ce2-1a31-43ca-949c-653da1649e7a",
   "metadata": {},
   "outputs": [],
   "source": [
    "l_quant = 0.05\n",
    "u_quant = 0.95\n",
    "\n",
    "# LogCO2\n",
    "LogCO2_factors, LogCO2_cusips, LogCO2_sectors, LogCO2_portfolio = create_FF_factor(cleaned, 'LogCO2', 'GMB_U', l_quant, u_quant)\n",
    "factordata = pd.merge(factordata, LogCO2_factors, on=['monthyear'])"
   ]
  },
  {
   "cell_type": "code",
   "execution_count": 17,
   "id": "41361516-1dce-4198-b796-332e1a79dc35",
   "metadata": {},
   "outputs": [],
   "source": [
    "# CO2 Intensity\n",
    "CO2Intensity_factors, CO2Intensity_cusips, CO2Intensity_sectors, CO2Intensity_portfolio = create_FF_factor(cleaned, 'CO2_Intensity', 'GMB_S', l_quant, u_quant)\n",
    "factordata = pd.merge(factordata, CO2Intensity_factors, on=['monthyear'])"
   ]
  },
  {
   "cell_type": "code",
   "execution_count": 18,
   "id": "9c6928ac-62aa-4fb7-a264-1f46b79cad7a",
   "metadata": {},
   "outputs": [
    {
     "name": "stdout",
     "output_type": "stream",
     "text": [
      "           cusip  year  Month monthyear  Mkt-RF   SMB   HML    RF   RMW   CMA  \\\n",
      "0       46603210  2015      1    201501   -3.11 -0.92 -3.59  0.00  1.61 -1.65   \n",
      "1       46603210  2015      2    201502    6.13  0.32 -1.86  0.00 -1.12 -1.82   \n",
      "2       46603210  2015      3    201503   -1.12  3.07 -0.38  0.00  0.09 -0.52   \n",
      "3       46603210  2015      4    201504    0.59 -3.09  1.82  0.00  0.06 -0.61   \n",
      "4       46603210  2015      5    201505    1.36  0.84 -1.15  0.00 -1.80 -0.75   \n",
      "...          ...   ...    ...       ...     ...   ...   ...   ...   ...   ...   \n",
      "295824  12503M10  2023      8    202308   -2.39 -3.68 -1.08  0.45  3.42 -2.37   \n",
      "295825  12503M10  2023      9    202309   -5.24 -1.79  1.45  0.43  1.85 -0.84   \n",
      "295826  12503M10  2023     10    202310   -3.18 -4.05  0.19  0.47  2.47 -0.67   \n",
      "295827  12503M10  2023     11    202311    8.83 -0.11  1.66  0.44 -3.81 -0.99   \n",
      "295828  12503M10  2023     12    202312    4.87  7.33  4.92  0.43 -3.04  1.30   \n",
      "\n",
      "             RET  ExcessReturn         sector  CO2_Total  TotalAssets  \\\n",
      "0      -0.097913     -0.097913  Manufacturing    91918.0      742.935   \n",
      "1       0.031288      0.031288  Manufacturing    91918.0      742.935   \n",
      "2       0.058010      0.058010  Manufacturing    91918.0      742.935   \n",
      "3      -0.022212     -0.022212  Manufacturing    91918.0      742.935   \n",
      "4       0.033260      0.033260  Manufacturing    91918.0      742.935   \n",
      "...          ...           ...            ...        ...          ...   \n",
      "295824  0.075745     -0.374255     FinanceIns    13523.0     7487.500   \n",
      "295825  0.043417     -0.386583     FinanceIns    13523.0     7487.500   \n",
      "295826  0.049165     -0.420835     FinanceIns    13523.0     7487.500   \n",
      "295827  0.115016     -0.324984     FinanceIns    13523.0     7487.500   \n",
      "295828 -0.019924     -0.449924     FinanceIns    13523.0     7487.500   \n",
      "\n",
      "           LogCO2  CO2_Intensity  Method_Estimated     GMB_U     GMB_S  \n",
      "0       11.428652     123.722802                 1  1.441005 -2.737087  \n",
      "1       11.428652     123.722802                 1  3.961239  2.964537  \n",
      "2       11.428652     123.722802                 1  2.937192  0.637432  \n",
      "3       11.428652     123.722802                 1 -2.242833  1.425410  \n",
      "4       11.428652     123.722802                 1  5.102756  0.615725  \n",
      "...           ...            ...               ...       ...       ...  \n",
      "295824   9.512147       1.806077                 0  3.959889 -0.255267  \n",
      "295825   9.512147       1.806077                 0 -3.126102 -1.721091  \n",
      "295826   9.512147       1.806077                 0 -3.625594 -0.262072  \n",
      "295827   9.512147       1.806077                 0  2.987649  2.126670  \n",
      "295828   9.512147       1.806077                 0  7.382040  3.837388  \n",
      "\n",
      "[295829 rows x 20 columns]\n"
     ]
    }
   ],
   "source": [
    "print(factordata)"
   ]
  },
  {
   "cell_type": "code",
   "execution_count": 19,
   "id": "941a59de-d64f-436c-8877-5fd95d84af0d",
   "metadata": {},
   "outputs": [],
   "source": [
    "# Export factors to .csv file\n",
    "factordata.to_csv('factordata.csv', index=False)"
   ]
  },
  {
   "cell_type": "markdown",
   "id": "99729e48-a6ea-4b7b-83b6-7ffa776b208e",
   "metadata": {},
   "source": [
    "# Volatility Analysis (Jaccard Distances)"
   ]
  },
  {
   "cell_type": "code",
   "execution_count": 20,
   "id": "56482743-a3d0-425a-bf99-62dae6c02860",
   "metadata": {},
   "outputs": [],
   "source": [
    "# Function for calculating Jaccard distances\n",
    "\n",
    "def jaccard_distance(df, col1, col2):\n",
    "    set1 = set(df[col1])\n",
    "    set2 = set(df[col2])\n",
    "    # intersection of two sets\n",
    "    intersection = len(set1.intersection(set2))\n",
    "    # Unions of two sets\n",
    "    union = len(set1.union(set2))\n",
    "     \n",
    "    return 1 - (intersection / union)"
   ]
  },
  {
   "cell_type": "code",
   "execution_count": 21,
   "id": "b4003e7e-cf72-4a1a-a57f-282398191aa7",
   "metadata": {},
   "outputs": [],
   "source": [
    "# Extract the monthly GMB factors\n",
    "copy = factordata.copy()\n",
    "GMBs = (copy.drop_duplicates(subset='GMB_U', keep='first')).copy()\n",
    "# Create a datetime column\n",
    "GMBs['date'] = pd.to_datetime(GMBs[['year', 'Month']].assign(day=1))\n",
    "GMBs = GMBs.sort_values(['date'], ascending=[True])\n",
    "dates = GMBs['date'].to_numpy()"
   ]
  },
  {
   "cell_type": "markdown",
   "id": "ca8b81ce-969b-4e7a-92b6-71b6a05b8441",
   "metadata": {},
   "source": [
    "The print statements below are all \"sanity checks\" and a way to help us see more clearly the sizes of the portfolios in relation to the total dataset."
   ]
  },
  {
   "cell_type": "code",
   "execution_count": 22,
   "id": "633b3cf1-38d6-45c0-aaea-deddf55e968e",
   "metadata": {},
   "outputs": [
    {
     "name": "stdout",
     "output_type": "stream",
     "text": [
      "[28, 28, 28, 28, 28, 28, 28, 28, 28, 28, 28, 28, 28, 28, 28, 28, 28, 28, 28, 28, 28, 28, 28, 28, 38, 38, 38, 38, 38, 38, 38, 38, 38, 38, 38, 38, 42, 42, 42, 42, 42, 42, 42, 42, 42, 42, 42, 42, 42, 42, 42, 42, 42, 42, 42, 42, 42, 42, 42, 42, 44, 44, 44, 44, 44, 44, 44, 44, 44, 44, 44, 44, 56, 56, 56, 56, 56, 56, 58, 58, 58, 58, 58, 58, 64, 64, 64, 64, 64, 64, 64, 64, 64, 64, 64, 64, 66, 66, 66, 66, 66, 66, 66, 66, 66, 66, 66, 66, 68, 68, 68, 68, 68, 68, 68, 68, 68, 68, 68, 68, 68, 68, 68, 68, 68, 68, 68, 68, 68, 68, 68, 68, 70, 70, 70, 70, 70, 70, 70, 70, 70, 70, 70, 70, 72, 72, 72, 72, 72, 72, 72, 72, 72, 72, 72, 72, 130, 130, 130, 130, 130, 130, 130, 130, 130, 130, 130, 130, 170, 170, 170, 170, 170, 170, 170, 170, 170, 170, 170, 170, 198, 198, 198, 198, 198, 198, 198, 198, 198, 198, 198, 198, 206, 206, 206, 206, 206, 206, 206, 206, 206, 206, 206, 206, 220, 220, 220, 220, 220, 220, 220, 220, 220, 220, 220, 218, 232, 232, 232, 232, 232, 232, 232, 232, 232, 232, 232, 232, 238, 238, 238, 238, 238, 238, 238, 238, 238, 238, 236, 236, 242, 242, 242, 242, 242, 242, 242, 242, 242, 242, 242, 241, 160, 160, 160, 160, 160, 160, 160, 160, 160, 160, 160, 160]\n"
     ]
    }
   ],
   "source": [
    "# Printing the number of stocks in the Log(CO2) portfolio each month\n",
    "number_stocks_in_portfolio = []\n",
    "i = 0\n",
    "while i < len(monthyears):\n",
    "    count = LogCO2_cusips[monthyears[i]].count()\n",
    "    number_stocks_in_portfolio.append(count)\n",
    "    i = i + 1\n",
    "print(number_stocks_in_portfolio)"
   ]
  },
  {
   "cell_type": "code",
   "execution_count": 23,
   "id": "e7409137-7caa-4cac-8465-574e3a9d72fe",
   "metadata": {},
   "outputs": [
    {
     "name": "stdout",
     "output_type": "stream",
     "text": [
      "[28, 28, 38, 42, 42, 44, 56, 64, 66, 68, 68, 70, 72, 130, 170, 198, 206, 220, 232, 238, 242, 160]\n"
     ]
    }
   ],
   "source": [
    "# Printing the number of stocks in only the January Log(CO2) portfolios\n",
    "january_sizes = []\n",
    "i = 0\n",
    "while i < len(monthyears) - 1:\n",
    "    size = number_stocks_in_portfolio[i]\n",
    "    january_sizes.append(size)\n",
    "    i = i + 12\n",
    "print(january_sizes)"
   ]
  },
  {
   "cell_type": "code",
   "execution_count": 24,
   "id": "b4c0bdf0-542a-4a81-a42f-002f38d9bb18",
   "metadata": {},
   "outputs": [
    {
     "name": "stdout",
     "output_type": "stream",
     "text": [
      "[274, 274, 274, 274, 274, 274, 274, 274, 274, 274, 274, 274, 281, 281, 280, 280, 280, 280, 280, 280, 280, 280, 280, 280, 366, 366, 367, 367, 367, 367, 367, 367, 367, 367, 367, 367, 408, 408, 408, 408, 408, 408, 409, 409, 409, 409, 409, 409, 407, 407, 407, 407, 408, 408, 408, 408, 408, 408, 408, 407, 438, 437, 436, 436, 436, 436, 436, 436, 436, 435, 435, 435, 561, 561, 561, 561, 561, 561, 562, 562, 562, 562, 563, 563, 631, 631, 631, 631, 631, 631, 631, 631, 631, 631, 631, 631, 655, 655, 655, 655, 655, 655, 655, 655, 655, 655, 655, 655, 668, 668, 668, 668, 668, 668, 668, 668, 668, 668, 668, 668, 678, 678, 678, 678, 678, 678, 677, 677, 677, 677, 678, 678, 695, 695, 695, 695, 695, 695, 695, 695, 695, 695, 695, 693, 703, 703, 703, 703, 703, 704, 704, 703, 703, 703, 703, 703, 1290, 1290, 1290, 1290, 1290, 1290, 1290, 1290, 1290, 1290, 1290, 1290, 1701, 1701, 1701, 1701, 1701, 1701, 1701, 1700, 1700, 1700, 1700, 1700, 1978, 1978, 1978, 1978, 1978, 1978, 1978, 1978, 1978, 1978, 1978, 1977, 2050, 2050, 2050, 2050, 2050, 2051, 2051, 2049, 2049, 2047, 2045, 2043, 2192, 2192, 2192, 2192, 2192, 2192, 2191, 2189, 2186, 2186, 2185, 2177, 2320, 2320, 2320, 2319, 2318, 2316, 2316, 2316, 2314, 2316, 2317, 2317, 2363, 2364, 2363, 2363, 2363, 2363, 2363, 2362, 2362, 2362, 2361, 2360, 2415, 2414, 2414, 2414, 2416, 2416, 2416, 2415, 2414, 2412, 2412, 2409, 1590, 1590, 1590, 1590, 1590, 1590, 1589, 1588, 1587, 1587, 1584, 1583]\n"
     ]
    }
   ],
   "source": [
    "# Printing the total number of companies available in each monthyear (to verify that the portfolio is 10% of the total dataset)\n",
    "company_counts = factordata.groupby(['monthyear'])['cusip'].count()\n",
    "company_counts.reindex(monthyears)\n",
    "company_counts = company_counts.reset_index()\n",
    "print(company_counts['cusip'].to_list())"
   ]
  },
  {
   "cell_type": "markdown",
   "id": "b8a6273c-af8e-4748-acf9-bb53e3103a4b",
   "metadata": {},
   "source": [
    "## Log(CO$_2$) Portfolio"
   ]
  },
  {
   "cell_type": "code",
   "execution_count": 25,
   "id": "6d8eb6ca-3f26-470f-9abd-fa95ab138875",
   "metadata": {},
   "outputs": [
    {
     "name": "stdout",
     "output_type": "stream",
     "text": [
      "[0.0, 0.0, 0.0, 0.0, 0.0, 0.0, 0.0, 0.0, 0.0, 0.0, 0.0, 0.38888888888888884, 0.0, 0.0, 0.0, 0.0, 0.0, 0.0, 0.0, 0.0, 0.0, 0.0, 0.0, 0.48888888888888893, 0.0, 0.0, 0.0, 0.0, 0.0, 0.0, 0.0, 0.0, 0.0, 0.0, 0.0, 0.5862068965517242, 0.0, 0.0, 0.0, 0.0, 0.0, 0.045454545454545414, 0.0, 0.0, 0.0, 0.0, 0.0, 0.20833333333333337, 0.0, 0.0, 0.0, 0.0, 0.0, 0.0, 0.0, 0.0, 0.0, 0.0, 0.0, 0.4, 0.0, 0.0, 0.0, 0.0, 0.0, 0.0, 0.0, 0.0, 0.0, 0.0, 0.0, 0.5, 0.0, 0.0, 0.0, 0.0, 0.0, 0.03389830508474578, 0.0, 0.0, 0.0, 0.0, 0.0, 0.2777777777777778, 0.0, 0.0, 0.0, 0.0, 0.0, 0.0, 0.0, 0.0, 0.0, 0.0, 0.0, 0.3076923076923077, 0.0, 0.0, 0.0, 0.0, 0.0, 0.0, 0.0, 0.0, 0.0, 0.0, 0.0, 0.2564102564102564, 0.0, 0.0, 0.0, 0.0, 0.0, 0.0, 0.0, 0.0, 0.0, 0.0, 0.0, 0.25316455696202533, 0.0, 0.0, 0.0, 0.0, 0.0, 0.02857142857142858, 0.0, 0.0, 0.0, 0.02857142857142858, 0.0, 0.17105263157894735, 0.0, 0.0, 0.0, 0.0, 0.0, 0.0, 0.0, 0.0, 0.0, 0.0, 0.0, 0.27710843373493976, 0.0, 0.0, 0.0, 0.0, 0.0, 0.0, 0.0, 0.0, 0.0, 0.0, 0.0, 0.6818181818181819, 0.0, 0.0, 0.0, 0.0, 0.0, 0.0, 0.0, 0.0, 0.0, 0.0, 0.0, 0.6666666666666667, 0.0, 0.0, 0.0, 0.0, 0.0, 0.0, 0.0, 0.0, 0.0, 0.0, 0.0, 0.6420664206642066, 0.0, 0.0, 0.0, 0.0, 0.0, 0.0, 0.0, 0.0, 0.0, 0.0, 0.0, 0.3577235772357723, 0.0, 0.0, 0.0, 0.0, 0.0, 0.0, 0.0, 0.0, 0.0, 0.0, 0.0, 0.367816091954023, 0.0, 0.0, 0.0, 0.0, 0.0, 0.0, 0.0, 0.0, 0.0, 0.0, 0.009090909090909038, 0.35766423357664234, 0.0, 0.0, 0.0, 0.0, 0.0, 0.0, 0.0, 0.0, 0.008583690987124415, 0.0, 0.0, 0.34507042253521125, 0.0, 0.0, 0.0, 0.0, 0.0, 0.0, 0.0, 0.0, 0.0, 0.008403361344537785, 0.0, 0.4046822742474916, 0.0, 0.0, 0.0, 0.0, 0.0, 0.0, 0.0, 0.008264462809917328, 0.0, 0.0, 0.016460905349794275, 0.5627240143369175, 0.0, 0.0, 0.0, 0.0, 0.0, 0.0, 0.0, 0.0, 0.0, 0.012422360248447228, 0.0]\n"
     ]
    }
   ],
   "source": [
    "# Print the month-to-month Jaccard distances for every monthyear in the dataset\n",
    "LogCO2_jaccard_distances = []\n",
    "i = 0\n",
    "while i < len(monthyears) - 1:\n",
    "    difference = jaccard_distance(LogCO2_cusips, monthyears[i+1], monthyears[i])\n",
    "    LogCO2_jaccard_distances.append(difference)\n",
    "    i = i + 1\n",
    "print(LogCO2_jaccard_distances)"
   ]
  },
  {
   "cell_type": "code",
   "execution_count": 26,
   "id": "b9a905f9-b89e-4bb1-bf72-d1fa595bdc4d",
   "metadata": {},
   "outputs": [
    {
     "name": "stdout",
     "output_type": "stream",
     "text": [
      "[0.38888888888888884, 0.48888888888888893, 0.5862068965517242, 0.20833333333333337, 0.4, 0.5, 0.2777777777777778, 0.3076923076923077, 0.2564102564102564, 0.25316455696202533, 0.17105263157894735, 0.27710843373493976, 0.6818181818181819, 0.6666666666666667, 0.6420664206642066, 0.3577235772357723, 0.367816091954023, 0.35766423357664234, 0.34507042253521125, 0.4046822742474916, 0.5627240143369175]\n"
     ]
    }
   ],
   "source": [
    "# Isolate the Jaccard Distances from the Januarys (main recalibrations)\n",
    "LogCO2_january_jaccards = []\n",
    "i = 11\n",
    "while i < len(monthyears) - 1:\n",
    "    difference = LogCO2_jaccard_distances[i]\n",
    "    LogCO2_january_jaccards.append(difference)\n",
    "    i = i + 12\n",
    "print(LogCO2_january_jaccards)"
   ]
  },
  {
   "cell_type": "markdown",
   "id": "6acaf903-374a-43af-9c05-bf897a80516a",
   "metadata": {},
   "source": [
    "## CO$_2$ Intensity Portfolio"
   ]
  },
  {
   "cell_type": "code",
   "execution_count": 27,
   "id": "66fe5672-c0a3-4d0a-9f89-cef41a50000f",
   "metadata": {},
   "outputs": [
    {
     "name": "stdout",
     "output_type": "stream",
     "text": [
      "[0.0, 0.0, 0.0, 0.0, 0.0, 0.0, 0.0, 0.0, 0.0, 0.0, 0.0, 0.4736842105263158, 0.0, 0.0, 0.0, 0.0, 0.0, 0.0, 0.0, 0.0, 0.0, 0.0, 0.0, 0.64, 0.0, 0.0, 0.0, 0.0, 0.0, 0.0, 0.0, 0.0, 0.0, 0.0, 0.0, 0.6557377049180328, 0.0, 0.0, 0.0, 0.0, 0.0, 0.0, 0.0, 0.0, 0.0, 0.0, 0.0, 0.5172413793103448, 0.0, 0.0, 0.0, 0.0, 0.0, 0.0, 0.0, 0.0, 0.0, 0.0, 0.0, 0.339622641509434, 0.0, 0.0, 0.0, 0.0, 0.0, 0.0, 0.0, 0.0, 0.0, 0.0, 0.0, 0.38095238095238093, 0.0, 0.0, 0.0, 0.0, 0.0, 0.03389830508474578, 0.0, 0.0, 0.0, 0.0, 0.0, 0.44999999999999996, 0.0, 0.0, 0.0, 0.0, 0.0, 0.0, 0.0, 0.0, 0.0, 0.0, 0.0, 0.24, 0.0, 0.0, 0.0, 0.0, 0.0, 0.0, 0.0, 0.0, 0.0, 0.0, 0.0, 0.21052631578947367, 0.0, 0.0, 0.0, 0.0, 0.0, 0.0, 0.0, 0.0, 0.0, 0.0, 0.0, 0.20779220779220775, 0.0, 0.0, 0.0, 0.0, 0.0, 0.02857142857142858, 0.0, 0.0, 0.0, 0.02857142857142858, 0.0, 0.20512820512820518, 0.0, 0.0, 0.0, 0.0, 0.0, 0.0, 0.0, 0.0, 0.0, 0.0, 0.0, 0.2222222222222222, 0.0, 0.0, 0.0, 0.0, 0.027027027027026973, 0.0, 0.0, 0.0, 0.0, 0.0, 0.0, 0.5109489051094891, 0.0, 0.0, 0.0, 0.0, 0.0, 0.0, 0.0, 0.0, 0.0, 0.0, 0.0, 0.4293193717277487, 0.0, 0.0, 0.0, 0.0, 0.0, 0.0, 0.0, 0.0, 0.0, 0.0, 0.0, 0.319634703196347, 0.0, 0.0, 0.0, 0.0, 0.0, 0.0, 0.0, 0.0, 0.0, 0.0, 0.010000000000000009, 0.3153526970954357, 0.0, 0.0, 0.0, 0.0, 0.0, 0.0, 0.0, 0.0, 0.0, 0.0, 0.0, 0.27419354838709675, 0.0, 0.0, 0.0, 0.0, 0.0, 0.0, 0.0, 0.009009009009009028, 0.0, 0.0, 0.009049773755656076, 0.371841155234657, 0.0, 0.0, 0.0, 0.0, 0.0, 0.0, 0.0, 0.008583690987124415, 0.008583690987124415, 0.008583690987124415, 0.008583690987124415, 0.3415492957746479, 0.0, 0.008333333333333304, 0.0, 0.0, 0.0, 0.0, 0.008333333333333304, 0.0, 0.0, 0.008368200836820106, 0.0, 0.3573883161512027, 0.0, 0.0, 0.0, 0.0, 0.0, 0.0, 0.0, 0.0, 0.0, 0.0, 0.0, 0.5328467153284672, 0.0, 0.0, 0.0, 0.0, 0.0, 0.0, 0.0, 0.0, 0.0, 0.0, 0.0]\n"
     ]
    }
   ],
   "source": [
    "# Print the month-to-month Jaccard distances for every monthyear in the dataset\n",
    "CO2Intensity_jaccard_distances = []\n",
    "i = 0\n",
    "while i < len(monthyears) - 1:\n",
    "    difference = jaccard_distance(CO2Intensity_cusips, monthyears[i+1], monthyears[i])\n",
    "    CO2Intensity_jaccard_distances.append(difference)\n",
    "    i = i + 1\n",
    "print(CO2Intensity_jaccard_distances)"
   ]
  },
  {
   "cell_type": "code",
   "execution_count": 28,
   "id": "60c588f8-dcea-4783-9d7a-e047001df628",
   "metadata": {},
   "outputs": [
    {
     "name": "stdout",
     "output_type": "stream",
     "text": [
      "[0.4736842105263158, 0.64, 0.6557377049180328, 0.5172413793103448, 0.339622641509434, 0.38095238095238093, 0.44999999999999996, 0.24, 0.21052631578947367, 0.20779220779220775, 0.20512820512820518, 0.2222222222222222, 0.5109489051094891, 0.4293193717277487, 0.319634703196347, 0.3153526970954357, 0.27419354838709675, 0.371841155234657, 0.3415492957746479, 0.3573883161512027, 0.5328467153284672]\n"
     ]
    }
   ],
   "source": [
    "# Isolate the Jaccard Distances from the Januarys (main recalibrations)\n",
    "# January Differences\n",
    "CO2Intensity_january_jaccards = []\n",
    "i = 11\n",
    "while i < len(monthyears) - 1:\n",
    "    difference = CO2Intensity_jaccard_distances[i]\n",
    "    CO2Intensity_january_jaccards.append(difference)\n",
    "    i = i + 12\n",
    "print(CO2Intensity_january_jaccards)"
   ]
  },
  {
   "cell_type": "markdown",
   "id": "1cfcc492-3426-4d88-83ec-e92dbea358ed",
   "metadata": {},
   "source": [
    "## Jaccard Distances Summary Statistics and Plot"
   ]
  },
  {
   "cell_type": "code",
   "execution_count": 29,
   "id": "c2a65719-3e96-4e2e-bcd8-c8a51e94bf72",
   "metadata": {},
   "outputs": [
    {
     "name": "stdout",
     "output_type": "stream",
     "text": [
      "LogCO2 Jaccard Distance MEAN =  0.40484551689781917\n",
      "LogCO2 Jaccard Distance STD =  0.1488623659345815\n",
      "LogCO2 Jaccard Distance MIN =  0.17105263157894735\n",
      "LogCO2 Jaccard Distance MAX =  0.6818181818181819\n",
      "\n",
      "CO2Intensity Jaccard Distance MEAN =  0.38076104648350995\n",
      "CO2Intensity Jaccard Distance STD =  0.13367155979852888\n",
      "CO2Intensity Jaccard Distance MIN =  0.20512820512820518\n",
      "CO2Intensity Jaccard Distance MAX =  0.6557377049180328\n"
     ]
    }
   ],
   "source": [
    "# Jaccard Distances Summary Statistics\n",
    "\n",
    "print('LogCO2 Jaccard Distance MEAN = ', np.array(LogCO2_january_jaccards).mean())\n",
    "print('LogCO2 Jaccard Distance STD = ', np.array(LogCO2_january_jaccards).std())\n",
    "print('LogCO2 Jaccard Distance MIN = ', np.array(LogCO2_january_jaccards).min())\n",
    "print('LogCO2 Jaccard Distance MAX = ', np.array(LogCO2_january_jaccards).max())\n",
    "print()\n",
    "print('CO2Intensity Jaccard Distance MEAN = ', np.array(CO2Intensity_january_jaccards).mean())\n",
    "print('CO2Intensity Jaccard Distance STD = ', np.array(CO2Intensity_january_jaccards).std())\n",
    "print('CO2Intensity Jaccard Distance MIN = ', np.array(CO2Intensity_january_jaccards).min())\n",
    "print('CO2Intensity Jaccard Distance MAX = ', np.array(CO2Intensity_january_jaccards).max())"
   ]
  },
  {
   "cell_type": "code",
   "execution_count": 30,
   "id": "c2e799d5-6896-47ed-9584-8c42c33488af",
   "metadata": {},
   "outputs": [],
   "source": [
    "januarys = ['2003', '2004', '2005', '2006', '2007', '2008', '2009', '2010',\n",
    "            '2011', '2012', '2013', '2014', '2015', '2016', '2017', '2018', '2019', '2020',\n",
    "            '2021', '2022', '2023']"
   ]
  },
  {
   "cell_type": "code",
   "execution_count": 31,
   "id": "3cc2c8b1-218e-4458-a89a-3c23bbf2260e",
   "metadata": {},
   "outputs": [
    {
     "data": {
      "image/png": "[encoded data removed]",
      "text/plain": [
       "<Figure size 1300x600 with 1 Axes>"
      ]
     },
     "metadata": {},
     "output_type": "display_data"
    }
   ],
   "source": [
    "plt.figure(figsize=(13, 6))\n",
    "\n",
    "categories = januarys\n",
    "x = np.arange(len(categories))\n",
    "bar_width = 0.35\n",
    "\n",
    "plt.bar(x - bar_width/2, LogCO2_january_jaccards, bar_width, color = 'mediumseagreen', label='Log(CO$_2$)')\n",
    "plt.bar(x + bar_width/2, CO2Intensity_january_jaccards, bar_width, color = 'darkgreen', label='CO$_2$ Intensity')\n",
    "\n",
    "plt.xlabel('Year (January)')\n",
    "plt.ylabel('Jaccard Distance')\n",
    "# plt.title('Jaccard Distances (Dissimilarities) of Each January\\'s Long-Short Portfolio With the Previous January\\'s Portfolio')\n",
    "plt.xticks(x, categories)\n",
    "plt.legend()\n",
    "\n",
    "plt.savefig('JaccardDistances.pdf', dpi=300, bbox_inches='tight')\n",
    "\n",
    "plt.show()"
   ]
  },
  {
   "cell_type": "markdown",
   "id": "5870cac7-ebb3-47c4-8ddf-a94b5ce93572",
   "metadata": {},
   "source": [
    "# Portfolio Composition"
   ]
  },
  {
   "cell_type": "code",
   "execution_count": 32,
   "id": "aefc5ac9-485c-48ec-aeba-6fb91e9dc3dd",
   "metadata": {},
   "outputs": [],
   "source": [
    "def unique_value_counts(df):\n",
    "    results = {}\n",
    "    for col in df.columns:\n",
    "        value_counts = df[col].value_counts()\n",
    "        results[col] = value_counts\n",
    "    return pd.DataFrame(results)"
   ]
  },
  {
   "cell_type": "markdown",
   "id": "e2c650fd-696f-4d16-99f5-4bc7dd64fc8d",
   "metadata": {},
   "source": [
    "## Log(CO$_2$) GMB Portfolio Composition"
   ]
  },
  {
   "cell_type": "code",
   "execution_count": 33,
   "id": "923669fa-47c9-453c-b673-eadd429e2504",
   "metadata": {},
   "outputs": [],
   "source": [
    "# Use the sectors represented in each monthyear's portfolio (an output of our create_FF_factor() function)\n",
    "# Filter for only January portfolios\n",
    "LogCO2_sectors_january = LogCO2_sectors[['200201', '200301', '200401', '200501', '200601', '200701', '200801', '200901', '201001',\n",
    "                                         '201101', '201201', '201301', '201401', '201501', '201601', '201701', '201801', '201901', '202001',\n",
    "                                         '202101', '202201', '202301']]"
   ]
  },
  {
   "cell_type": "code",
   "execution_count": 34,
   "id": "8a2a3eba-e8d2-419a-aed6-a25cc2fb4ed9",
   "metadata": {},
   "outputs": [
    {
     "name": "stdout",
     "output_type": "stream",
     "text": [
      "                2002  2003  2004  2005  2006  2007  2008  2009  2010  2011  \\\n",
      "Accommodation    2.0   2.0   1.0   1.0   1.0   1.0   NaN   1.0   1.0   1.0   \n",
      "Construction     1.0   1.0   1.0   NaN   NaN   1.0   NaN   NaN   NaN   NaN   \n",
      "Finance          6.0   6.0   6.0  14.0  14.0  14.0  20.0  22.0  19.0  21.0   \n",
      "Information      NaN   NaN   NaN   NaN   NaN   NaN   NaN   NaN   2.0   1.0   \n",
      "Manufacturing    5.0   4.0   5.0  10.0   8.0   7.0   8.0   9.0  13.0  11.0   \n",
      "Oil & Gas        3.0   2.0   4.0   3.0   2.0   2.0   2.0   4.0   4.0   3.0   \n",
      "Real Estate      4.0   4.0  11.0   NaN   NaN   NaN   2.0   1.0   NaN   NaN   \n",
      "Retail           1.0   NaN   1.0   1.0   1.0   NaN   1.0   1.0   1.0   1.0   \n",
      "Services         NaN   NaN   NaN   1.0   2.0   2.0   2.0   3.0   2.0   4.0   \n",
      "Transportation   NaN   NaN   NaN   NaN   NaN   NaN   3.0   4.0   5.0   5.0   \n",
      "Utilities        6.0   9.0   9.0  12.0  14.0  17.0  18.0  19.0  19.0  21.0   \n",
      "Wholesale        NaN   NaN   NaN   NaN   NaN   NaN   NaN   NaN   NaN   NaN   \n",
      "\n",
      "                ...  2014  2015  2016  2017  2018  2019  2020  2021  2022  \\\n",
      "Accommodation   ...   NaN   NaN   2.0   1.0   1.0   1.0   1.0     1   1.0   \n",
      "Construction    ...   NaN   NaN   NaN   NaN   NaN   NaN   NaN     1   NaN   \n",
      "Finance         ...  22.0  36.0  54.0  45.0  31.0  19.0  19.0    27  16.0   \n",
      "Information     ...   1.0   1.0   NaN   3.0   3.0   3.0   2.0     1   1.0   \n",
      "Manufacturing   ...  15.0  28.0  37.0  45.0  47.0  57.0  55.0    56  50.0   \n",
      "Oil & Gas       ...   2.0   7.0   8.0  10.0  11.0  11.0  14.0    14  17.0   \n",
      "Real Estate     ...   1.0   1.0   NaN   3.0   4.0   6.0   7.0     7   9.0   \n",
      "Retail          ...   1.0   1.0   2.0   2.0   2.0   2.0   2.0     2   3.0   \n",
      "Services        ...   3.0  13.0  16.0  33.0  53.0  64.0  71.0    66  83.0   \n",
      "Transportation  ...   4.0  13.0  19.0  21.0  21.0  23.0  26.0    27  27.0   \n",
      "Utilities       ...  23.0  28.0  30.0  32.0  29.0  32.0  33.0    34  33.0   \n",
      "Wholesale       ...   NaN   2.0   2.0   3.0   4.0   2.0   2.0     2   2.0   \n",
      "\n",
      "                2023  \n",
      "Accommodation    NaN  \n",
      "Construction     NaN  \n",
      "Finance          8.0  \n",
      "Information      NaN  \n",
      "Manufacturing   37.0  \n",
      "Oil & Gas       10.0  \n",
      "Real Estate      7.0  \n",
      "Retail           2.0  \n",
      "Services        54.0  \n",
      "Transportation  18.0  \n",
      "Utilities       22.0  \n",
      "Wholesale        2.0  \n",
      "\n",
      "[12 rows x 22 columns]\n"
     ]
    }
   ],
   "source": [
    "LogCO2_sector_counts = unique_value_counts(LogCO2_sectors_january)\n",
    "LogCO2_sector_counts.columns = [col[:-2] for col in LogCO2_sector_counts.columns]\n",
    "\n",
    "# Renaming sectors to be consistent with our report\n",
    "LogCO2_sector_counts = LogCO2_sector_counts.rename(index={'AccomFood': 'Accommodation', \n",
    "                                                          'FinanceIns': 'Finance',\n",
    "                                                          'OilGas': 'Oil & Gas',\n",
    "                                                          'RealEstate': 'Real Estate',\n",
    "                                                          'TransportWarehouse': 'Transportation',})\n",
    "print(LogCO2_sector_counts)"
   ]
  },
  {
   "cell_type": "code",
   "execution_count": 35,
   "id": "1a8331da-0996-4e6c-a726-55293779a021",
   "metadata": {},
   "outputs": [
    {
     "data": {
      "image/png": "[encoded data removed]",
      "text/plain": [
       "<Figure size 1100x600 with 1 Axes>"
      ]
     },
     "metadata": {},
     "output_type": "display_data"
    }
   ],
   "source": [
    "# Log(CO2) GMB Portfolio Composition Stacked Column Chart\n",
    "\n",
    "colors = [\n",
    "    'tab:blue',  # Accomodation & Food (middle)\n",
    "    'tab:orange',  # Construction (middle)\n",
    "    'tab:green',  # Finance & Insurance (green)\n",
    "    'tab:red',  # Information (green)\n",
    "    'tab:purple',  # Manufacturing (brown)\n",
    "    'tab:brown',  # Oil & Gas (brown)\n",
    "    'tab:pink',  # Real Estate (middle)\n",
    "    'tab:gray',  # Retail (middle)\n",
    "    'tab:olive',  # Services (green)\n",
    "    'tab:cyan',  # Transportation (brown)\n",
    "    'cornflowerblue', # Utilities (brown)\n",
    "    'lightcoral' # Wholesale (brown)\n",
    "]\n",
    "\n",
    "LogCO2_sector_counts.T.plot.bar(stacked=True, figsize=(11, 6), color=colors)\n",
    "plt.xlabel('Year (January)')\n",
    "plt.ylabel('# of Companies in Long-Short Portfolio')\n",
    "# plt.title('Log(CO$_2$) Long-Short Portfolio Composition by Sector')\n",
    "plt.xticks(rotation=0)\n",
    "plt.legend(title=\"Sectors\")\n",
    "plt.tight_layout()\n",
    "\n",
    "plt.savefig('LogCO2_Portfolio_Sectors.pdf', dpi=300, bbox_inches='tight')\n",
    "\n",
    "plt.show()"
   ]
  },
  {
   "cell_type": "markdown",
   "id": "0bc841bd-fd02-4c23-a1e1-b76e46b97603",
   "metadata": {},
   "source": [
    "## CO$_2$ Intensity GMB Portfolio Composition"
   ]
  },
  {
   "cell_type": "code",
   "execution_count": 36,
   "id": "613fa24e-e178-47fe-8c6e-99e12ecbec0f",
   "metadata": {},
   "outputs": [],
   "source": [
    "# Use the sectors represented in each monthyear's portfolio (an output of our create_FF_factor() function)\n",
    "# Filter for only January portfolios\n",
    "CO2Intensity_sectors_january = CO2Intensity_sectors[['200201', '200301', '200401', '200501', '200601', '200701', '200801', '200901', '201001',\n",
    "                                         '201101', '201201', '201301', '201401', '201501', '201601', '201701', '201801', '201901', '202001',\n",
    "                                         '202101', '202201', '202301']]"
   ]
  },
  {
   "cell_type": "code",
   "execution_count": 37,
   "id": "14aa3f7a-e0fb-48d3-b608-ea9cb1aba5b5",
   "metadata": {},
   "outputs": [],
   "source": [
    "CO2Intensity_sector_counts = unique_value_counts(CO2Intensity_sectors_january)\n",
    "CO2Intensity_sector_counts.columns = [col[:-2] for col in CO2Intensity_sector_counts.columns]\n",
    "\n",
    "# Renaming sectors to be consistent with our report\n",
    "CO2Intensity_sector_counts = CO2Intensity_sector_counts.rename(index={'AccomFood': 'Accommodation', \n",
    "                                                          'FinanceIns': 'Finance',\n",
    "                                                          'OilGas': 'Oil & Gas',\n",
    "                                                          'RealEstate': 'Real Estate',\n",
    "                                                          'TransportWarehouse': 'Transportation',})"
   ]
  },
  {
   "cell_type": "code",
   "execution_count": 38,
   "id": "d819a811-9117-455d-bcd6-96cfc639de60",
   "metadata": {},
   "outputs": [
    {
     "data": {
      "image/png": "[encoded data removed]",
      "text/plain": [
       "<Figure size 1100x600 with 1 Axes>"
      ]
     },
     "metadata": {},
     "output_type": "display_data"
    }
   ],
   "source": [
    "# CO2 Intensity GMB Portfolio Composition Stacked Column Chart\n",
    "\n",
    "colors2 = [\n",
    "    'tab:blue',  # Accomodation & Food (middle)\n",
    "    'tab:orange',  # Construction (middle)\n",
    "    'tab:green',  # Finance & Insurance (green)\n",
    "    'tab:red',  # Information (green)\n",
    "    'tab:purple',  # Manufacturing (brown)\n",
    "    'tab:brown',  # Oil & Gas (brown)\n",
    "    'tab:pink',  # Real Estate (middle)\n",
    "    'tab:olive',  # Services (green)\n",
    "    'tab:cyan',  # Transportation (brown)\n",
    "    'cornflowerblue', # Utilities (brown)\n",
    "    'lightcoral' # Wholesale (brown)\n",
    "]\n",
    "\n",
    "CO2Intensity_sector_counts.T.plot.bar(stacked=True, figsize=(11, 6), color=colors2)\n",
    "plt.xlabel('Year (January)')\n",
    "plt.ylabel('# of Companies in Long-Short Portfolio')\n",
    "# plt.title('CO$_2$ Intensity Long-Short Portfolio Composition by Sector')\n",
    "plt.xticks(rotation=0)\n",
    "plt.legend(title=\"Sectors\")\n",
    "plt.tight_layout()\n",
    "\n",
    "plt.savefig('CO2Intensity_Portfolio_Sectors.pdf', dpi=300, bbox_inches='tight')\n",
    "\n",
    "plt.show()"
   ]
  },
  {
   "cell_type": "markdown",
   "id": "cb4f02ff-fa98-448d-981c-8be5aeeab66e",
   "metadata": {},
   "source": [
    "# Removing GMB Portfolio Stocks from Dataset (+ saving files for robustness checks)"
   ]
  },
  {
   "cell_type": "code",
   "execution_count": 39,
   "id": "646ee0ea-b770-4588-90ee-45288eadf171",
   "metadata": {},
   "outputs": [
    {
     "name": "stdout",
     "output_type": "stream",
     "text": [
      "           cusip  year  Month monthyear  Mkt-RF   SMB   HML    RF   RMW   CMA  \\\n",
      "0       46603210  2015      1    201501   -3.11 -0.92 -3.59  0.00  1.61 -1.65   \n",
      "1       46603210  2015      2    201502    6.13  0.32 -1.86  0.00 -1.12 -1.82   \n",
      "2       46603210  2015      3    201503   -1.12  3.07 -0.38  0.00  0.09 -0.52   \n",
      "3       46603210  2015      4    201504    0.59 -3.09  1.82  0.00  0.06 -0.61   \n",
      "4       46603210  2015      5    201505    1.36  0.84 -1.15  0.00 -1.80 -0.75   \n",
      "...          ...   ...    ...       ...     ...   ...   ...   ...   ...   ...   \n",
      "295824  12503M10  2023      8    202308   -2.39 -3.68 -1.08  0.45  3.42 -2.37   \n",
      "295825  12503M10  2023      9    202309   -5.24 -1.79  1.45  0.43  1.85 -0.84   \n",
      "295826  12503M10  2023     10    202310   -3.18 -4.05  0.19  0.47  2.47 -0.67   \n",
      "295827  12503M10  2023     11    202311    8.83 -0.11  1.66  0.44 -3.81 -0.99   \n",
      "295828  12503M10  2023     12    202312    4.87  7.33  4.92  0.43 -3.04  1.30   \n",
      "\n",
      "             RET  ExcessReturn         sector  CO2_Total  TotalAssets  \\\n",
      "0      -0.097913     -0.097913  Manufacturing    91918.0      742.935   \n",
      "1       0.031288      0.031288  Manufacturing    91918.0      742.935   \n",
      "2       0.058010      0.058010  Manufacturing    91918.0      742.935   \n",
      "3      -0.022212     -0.022212  Manufacturing    91918.0      742.935   \n",
      "4       0.033260      0.033260  Manufacturing    91918.0      742.935   \n",
      "...          ...           ...            ...        ...          ...   \n",
      "295824  0.075745     -0.374255     FinanceIns    13523.0     7487.500   \n",
      "295825  0.043417     -0.386583     FinanceIns    13523.0     7487.500   \n",
      "295826  0.049165     -0.420835     FinanceIns    13523.0     7487.500   \n",
      "295827  0.115016     -0.324984     FinanceIns    13523.0     7487.500   \n",
      "295828 -0.019924     -0.449924     FinanceIns    13523.0     7487.500   \n",
      "\n",
      "           LogCO2  CO2_Intensity  Method_Estimated     GMB_U     GMB_S  \n",
      "0       11.428652     123.722802                 1  1.441005 -2.737087  \n",
      "1       11.428652     123.722802                 1  3.961239  2.964537  \n",
      "2       11.428652     123.722802                 1  2.937192  0.637432  \n",
      "3       11.428652     123.722802                 1 -2.242833  1.425410  \n",
      "4       11.428652     123.722802                 1  5.102756  0.615725  \n",
      "...           ...            ...               ...       ...       ...  \n",
      "295824   9.512147       1.806077                 0  3.959889 -0.255267  \n",
      "295825   9.512147       1.806077                 0 -3.126102 -1.721091  \n",
      "295826   9.512147       1.806077                 0 -3.625594 -0.262072  \n",
      "295827   9.512147       1.806077                 0  2.987649  2.126670  \n",
      "295828   9.512147       1.806077                 0  7.382040  3.837388  \n",
      "\n",
      "[266040 rows x 20 columns]\n"
     ]
    }
   ],
   "source": [
    "factordata_copy = factordata.copy()\n",
    "\n",
    "# Removing Log(CO2) GMB portfolio stocks first\n",
    "columns_to_compare = ['monthyear', 'cusip']\n",
    "# Create a boolean mask indicating rows in factordata_copy that match LogCO2_portfolio in the specified columns\n",
    "mask = factordata_copy[columns_to_compare].apply(tuple, axis=1).isin(LogCO2_portfolio[columns_to_compare].apply(tuple, axis=1))\n",
    "    \n",
    "# Invert the mask and filter factordata_copy to keep only the rows that do not match\n",
    "factordata_minus_LogCO2 = factordata_copy[~mask]\n",
    "    \n",
    "print(factordata_minus_LogCO2)"
   ]
  },
  {
   "cell_type": "code",
   "execution_count": 40,
   "id": "1d1d7034-f2a6-4641-a867-59b4ed4bdb24",
   "metadata": {},
   "outputs": [
    {
     "name": "stdout",
     "output_type": "stream",
     "text": [
      "Rows removed after LogCO2 mask = 29789\n",
      "Number of stocks in LogCO2 portfolio = 29789\n"
     ]
    }
   ],
   "source": [
    "print('Rows removed after LogCO2 mask =', len(factordata) - len(factordata_minus_LogCO2))\n",
    "print('Number of stocks in LogCO2 portfolio =', len(LogCO2_portfolio))"
   ]
  },
  {
   "cell_type": "code",
   "execution_count": 41,
   "id": "1bc41672-1735-40cc-818b-30ad409f03ce",
   "metadata": {},
   "outputs": [
    {
     "name": "stdout",
     "output_type": "stream",
     "text": [
      "           cusip  year  Month monthyear  Mkt-RF   SMB   HML    RF   RMW   CMA  \\\n",
      "0       46603210  2015      1    201501   -3.11 -0.92 -3.59  0.00  1.61 -1.65   \n",
      "1       46603210  2015      2    201502    6.13  0.32 -1.86  0.00 -1.12 -1.82   \n",
      "2       46603210  2015      3    201503   -1.12  3.07 -0.38  0.00  0.09 -0.52   \n",
      "3       46603210  2015      4    201504    0.59 -3.09  1.82  0.00  0.06 -0.61   \n",
      "4       46603210  2015      5    201505    1.36  0.84 -1.15  0.00 -1.80 -0.75   \n",
      "...          ...   ...    ...       ...     ...   ...   ...   ...   ...   ...   \n",
      "295824  12503M10  2023      8    202308   -2.39 -3.68 -1.08  0.45  3.42 -2.37   \n",
      "295825  12503M10  2023      9    202309   -5.24 -1.79  1.45  0.43  1.85 -0.84   \n",
      "295826  12503M10  2023     10    202310   -3.18 -4.05  0.19  0.47  2.47 -0.67   \n",
      "295827  12503M10  2023     11    202311    8.83 -0.11  1.66  0.44 -3.81 -0.99   \n",
      "295828  12503M10  2023     12    202312    4.87  7.33  4.92  0.43 -3.04  1.30   \n",
      "\n",
      "             RET  ExcessReturn         sector  CO2_Total  TotalAssets  \\\n",
      "0      -0.097913     -0.097913  Manufacturing    91918.0      742.935   \n",
      "1       0.031288      0.031288  Manufacturing    91918.0      742.935   \n",
      "2       0.058010      0.058010  Manufacturing    91918.0      742.935   \n",
      "3      -0.022212     -0.022212  Manufacturing    91918.0      742.935   \n",
      "4       0.033260      0.033260  Manufacturing    91918.0      742.935   \n",
      "...          ...           ...            ...        ...          ...   \n",
      "295824  0.075745     -0.374255     FinanceIns    13523.0     7487.500   \n",
      "295825  0.043417     -0.386583     FinanceIns    13523.0     7487.500   \n",
      "295826  0.049165     -0.420835     FinanceIns    13523.0     7487.500   \n",
      "295827  0.115016     -0.324984     FinanceIns    13523.0     7487.500   \n",
      "295828 -0.019924     -0.449924     FinanceIns    13523.0     7487.500   \n",
      "\n",
      "           LogCO2  CO2_Intensity  Method_Estimated     GMB_U     GMB_S  \n",
      "0       11.428652     123.722802                 1  1.441005 -2.737087  \n",
      "1       11.428652     123.722802                 1  3.961239  2.964537  \n",
      "2       11.428652     123.722802                 1  2.937192  0.637432  \n",
      "3       11.428652     123.722802                 1 -2.242833  1.425410  \n",
      "4       11.428652     123.722802                 1  5.102756  0.615725  \n",
      "...           ...            ...               ...       ...       ...  \n",
      "295824   9.512147       1.806077                 0  3.959889 -0.255267  \n",
      "295825   9.512147       1.806077                 0 -3.126102 -1.721091  \n",
      "295826   9.512147       1.806077                 0 -3.625594 -0.262072  \n",
      "295827   9.512147       1.806077                 0  2.987649  2.126670  \n",
      "295828   9.512147       1.806077                 0  7.382040  3.837388  \n",
      "\n",
      "[247693 rows x 20 columns]\n"
     ]
    }
   ],
   "source": [
    "# Now removing remainign CO2 intensity GMB portfolio stocks\n",
    "\n",
    "# Create a boolean mask indicating rows in factordata_minus_LogCO2 that match CO2Intensity_portfolio in the specified columns\n",
    "mask_2 = factordata_minus_LogCO2[columns_to_compare].apply(tuple, axis=1).isin(CO2Intensity_portfolio[columns_to_compare].apply(tuple, axis=1))\n",
    "    \n",
    "# Invert the mask and filter factordata_minus_LogCO2 to keep only the rows that do not match\n",
    "factordata_minus_portfolios = factordata_minus_LogCO2[~mask_2]\n",
    "    \n",
    "print(factordata_minus_portfolios)"
   ]
  },
  {
   "cell_type": "code",
   "execution_count": 42,
   "id": "e1ee8bc0-a7b4-405a-aaa3-ac3ca60a8539",
   "metadata": {},
   "outputs": [
    {
     "name": "stdout",
     "output_type": "stream",
     "text": [
      "Rows removed after CO2 Intensity mask = 18347\n",
      "Number of stocks in CO2 Intensity portfolio = 29790\n",
      "Implied number of stocks overlapping in the LogCO2 and CO2 Intensity portfolios = 11443\n",
      "Percentage form of above = 0.38412218865391073\n"
     ]
    }
   ],
   "source": [
    "print('Rows removed after CO2 Intensity mask =', len(factordata_minus_LogCO2) - len(factordata_minus_portfolios))\n",
    "print('Number of stocks in CO2 Intensity portfolio =', len(CO2Intensity_portfolio))\n",
    "print('Implied number of stocks overlapping in the LogCO2 and CO2 Intensity portfolios =', len(CO2Intensity_portfolio) - (len(factordata_minus_LogCO2) - len(factordata_minus_portfolios)))\n",
    "print('Percentage form of above =', (len(CO2Intensity_portfolio) - (len(factordata_minus_LogCO2) - len(factordata_minus_portfolios)))/len(CO2Intensity_portfolio))"
   ]
  },
  {
   "cell_type": "code",
   "execution_count": 43,
   "id": "b7f34a33-0f24-40f3-8b37-f3fab24377f6",
   "metadata": {},
   "outputs": [],
   "source": [
    "# Export datafile for future robustness check\n",
    "factordata_minus_portfolios.to_csv('factordata_minus_portfolios.csv', index=False)"
   ]
  }
 ],
 "metadata": {
  "kernelspec": {
   "display_name": "Python 3 (ipykernel)",
   "language": "python",
   "name": "python3"
  },
  "language_info": {
   "codemirror_mode": {
    "name": "ipython",
    "version": 3
   },
   "file_extension": ".py",
   "mimetype": "text/x-python",
   "name": "python",
   "nbconvert_exporter": "python",
   "pygments_lexer": "ipython3",
   "version": "3.12.4"
  }
 },
 "nbformat": 4,
 "nbformat_minor": 5
}
